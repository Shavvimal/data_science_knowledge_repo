{
 "cells": [
  {
   "cell_type": "code",
   "execution_count": 19,
   "metadata": {},
   "outputs": [
    {
     "name": "stdout",
     "output_type": "stream",
     "text": [
      "Python 3.7.10\n"
     ]
    }
   ],
   "source": [
    "!python -V"
   ]
  },
  {
   "cell_type": "code",
   "execution_count": 20,
   "metadata": {},
   "outputs": [],
   "source": [
    "from sagemaker.tensorflow import TensorFlowModel\n",
    "from sagemaker import get_execution_role\n",
    "import time"
   ]
  },
  {
   "cell_type": "code",
   "execution_count": 21,
   "metadata": {},
   "outputs": [],
   "source": [
    "role = get_execution_role()"
   ]
  },
  {
   "cell_type": "code",
   "execution_count": 22,
   "metadata": {},
   "outputs": [],
   "source": [
    "model_name = 'xray-defect-model-resnet50-'+time.strftime(\"%Y-%m-%d\", time.gmtime())\n",
    "sagemaker_model = TensorFlowModel(model_data='s3://london-innovation-hub/xray/models/xray_model_v1/xray_model_v1.tar.gz',\n",
    "                                 role=role,\n",
    "                                 name=model_name,\n",
    "                                 entry_point='entry_point.py',\n",
    "                                 framework_version='2.5')"
   ]
  },
  {
   "cell_type": "code",
   "execution_count": 23,
   "metadata": {},
   "outputs": [],
   "source": [
    "! touch entry_point.py"
   ]
  },
  {
   "cell_type": "code",
   "execution_count": 24,
   "metadata": {},
   "outputs": [
    {
     "name": "stderr",
     "output_type": "stream",
     "text": [
      "update_endpoint is a no-op in sagemaker>=2.\n",
      "See: https://sagemaker.readthedocs.io/en/stable/v2.html for details.\n",
      "Using already existing model: xray-defect-model-resnet50-2022-03-10\n"
     ]
    },
    {
     "name": "stdout",
     "output_type": "stream",
     "text": [
      "-----!"
     ]
    }
   ],
   "source": [
    "endpoint_name = 'xray-defect-endpoint'\n",
    "predictor = sagemaker_model.deploy(initial_instance_count=1, \n",
    "                                   endpoint_name= endpoint_name,\n",
    "                                   instance_type='ml.m4.xlarge')"
   ]
  },
  {
   "cell_type": "code",
   "execution_count": 25,
   "metadata": {},
   "outputs": [],
   "source": [
    "import PIL.Image\n",
    "import numpy as np\n",
    "# test_image = PIL.Image.open('data/2019-07-20 19-33-08 - recRTBJBHELD9AK1 - 8640159619_Az45_0.jpeg')\n",
    "# payload = np.array([np.asarray(test_image.resize((1024, 1024)))])\n",
    "# payload.shape\n",
    "# result = predictor.predict(payload)\n",
    "# result"
   ]
  },
  {
   "cell_type": "code",
   "execution_count": 26,
   "metadata": {},
   "outputs": [],
   "source": [
    "def test(filename):\n",
    "    test_image = PIL.Image.open('images/'+filename)\n",
    "    payload = np.array([np.asarray(test_image.resize((1024, 1024)))])\n",
    "    return predictor.predict(payload)\n"
   ]
  },
  {
   "cell_type": "code",
   "execution_count": 27,
   "metadata": {},
   "outputs": [],
   "source": [
    "okay = ['OK_Images_jpeg/2021-11-02 12-56-22 - recRTB6R0ELD1AJ1 - 8680493059_Az28_0.jpeg',\n",
    "'OK_Images_jpeg/2021-11-02 17-44-12 - recRTBJBHEMA3AK1 - 8230369253_Az0_0.jpeg',\n",
    "'OK_Images_jpeg/2021-11-06 17-01-07 - recRTBJBHEM32AK1 - 8220387029_Az0_0.jpeg',\n",
    "'OK_Images_jpeg/2021-11-06 23-53-40 - recRTBJBHEM32AK1 - 8220387462_Az0_0.jpeg',\n",
    "'OK_Images_jpeg/2021-11-06 17-21-50 - recRTBJBHEM32AK1 - 8220387024_Az0_0.jpeg',\n",
    "'OK_Images_jpeg/2021-11-06 23-53-40 - recRTBJBHEM32AK1 - 8220387462_Az0_0.jpeg',\n",
    "'OK_Images_jpeg/2021-11-06 18-53-33 - recRTBJBHEM32AK1 - 8220387049_Az0_0.jpeg',\n",
    "'OK_Images_jpeg/2021-11-06 19-23-33 - recRTBJBHEM32AK1 - 8220387054_Az0_0.jpeg',\n",
    "'OK_Images_jpeg/2021-11-02 22-13-23 - recRTBJBHEMA3AK1 - 8230369562_Az0_0.jpeg',\n",
    "'OK_Images_jpeg/2021-11-06 19-02-32 - recRTBJBHEM32AK1 - 8220387046_Az0_0.jpeg']\n",
    "\n",
    "defect = ['Bp_stretch_jpeg/2021-06-06 01-55-32 - recRTBJBHELD9AK1 - 8330335036_Az340_0.jpeg',\n",
    "'Bp_stretch_jpeg/2021-08-02 09-33-32 - recRTB6R0ELD1AJ1 - 8230358838_Az49_0.jpeg',\n",
    "'Bp_stretch_jpeg/2019-08-04 14-18-32 - recRTBJBHELD9AK1 - 8210138837_Az214_0.jpeg',\n",
    "'Bp_stretch_jpeg/2021-04-24 05-42-21 - recRTB6O0EMA3AJ1 - 8130297515_Az26_0.jpeg',\n",
    "'Bp_stretch_jpeg/2021-04-30 00-35-18 - recRTB6R0ERH1AJ1 - 8320187672_Az0_0.jpeg',\n",
    "'Bp_stretch_jpeg/2021-04-15 02-31-54 - recRTBJGHELD1AK1 - 8430301577_Az470_0.jpeg',\n",
    "'Bp_stretch_jpeg/2021-04-05 11-51-43 - recRTB6R0EM33AJ1 - 8620397116_Az208_0.jpeg',\n",
    "'Bp_stretch_jpeg/2021-06-24 04-30-15 - recRTBJBHERH1AKA - 8230305334_Az350_0.jpeg',\n",
    "'Bp_stretch_jpeg/2021-06-09 13-17-33 - recRTB6R0ERH1AJ1 - 8230310066_Az347_0.jpeg',\n",
    "'Bp_stretch_jpeg/2021-07-30 14-51-22 - recRTBJBHELD9AK1 - 8320170736_Az0_0.jpeg']"
   ]
  },
  {
   "cell_type": "code",
   "execution_count": 28,
   "metadata": {},
   "outputs": [
    {
     "name": "stdout",
     "output_type": "stream",
     "text": [
      "file OK_Images_jpeg/2021-11-02 12-56-22 - recRTB6R0ELD1AJ1 - 8680493059_Az28_0.jpeg returns {'predictions': [[-32.9966736]]}\n",
      "file OK_Images_jpeg/2021-11-02 17-44-12 - recRTBJBHEMA3AK1 - 8230369253_Az0_0.jpeg returns {'predictions': [[3.45662594]]}\n",
      "file OK_Images_jpeg/2021-11-06 17-01-07 - recRTBJBHEM32AK1 - 8220387029_Az0_0.jpeg returns {'predictions': [[3.40580964]]}\n",
      "file OK_Images_jpeg/2021-11-06 23-53-40 - recRTBJBHEM32AK1 - 8220387462_Az0_0.jpeg returns {'predictions': [[3.52737832]]}\n",
      "file OK_Images_jpeg/2021-11-06 17-21-50 - recRTBJBHEM32AK1 - 8220387024_Az0_0.jpeg returns {'predictions': [[3.5734694]]}\n",
      "file OK_Images_jpeg/2021-11-06 23-53-40 - recRTBJBHEM32AK1 - 8220387462_Az0_0.jpeg returns {'predictions': [[3.52737832]]}\n",
      "file OK_Images_jpeg/2021-11-06 18-53-33 - recRTBJBHEM32AK1 - 8220387049_Az0_0.jpeg returns {'predictions': [[3.43019152]]}\n",
      "file OK_Images_jpeg/2021-11-06 19-23-33 - recRTBJBHEM32AK1 - 8220387054_Az0_0.jpeg returns {'predictions': [[3.34921241]]}\n",
      "file OK_Images_jpeg/2021-11-02 22-13-23 - recRTBJBHEMA3AK1 - 8230369562_Az0_0.jpeg returns {'predictions': [[3.21715784]]}\n",
      "file OK_Images_jpeg/2021-11-06 19-02-32 - recRTBJBHEM32AK1 - 8220387046_Az0_0.jpeg returns {'predictions': [[3.33251858]]}\n"
     ]
    }
   ],
   "source": [
    "for x in okay:\n",
    "    print(f'file {x} returns {test(x)}')\n",
    "    "
   ]
  },
  {
   "cell_type": "code",
   "execution_count": 29,
   "metadata": {},
   "outputs": [
    {
     "name": "stdout",
     "output_type": "stream",
     "text": [
      "file Bp_stretch_jpeg/2021-06-06 01-55-32 - recRTBJBHELD9AK1 - 8330335036_Az340_0.jpeg returns {'predictions': [[-38.8759956]]}\n",
      "file Bp_stretch_jpeg/2021-08-02 09-33-32 - recRTB6R0ELD1AJ1 - 8230358838_Az49_0.jpeg returns {'predictions': [[-26.949564]]}\n",
      "file Bp_stretch_jpeg/2019-08-04 14-18-32 - recRTBJBHELD9AK1 - 8210138837_Az214_0.jpeg returns {'predictions': [[-38.9407272]]}\n",
      "file Bp_stretch_jpeg/2021-04-24 05-42-21 - recRTB6O0EMA3AJ1 - 8130297515_Az26_0.jpeg returns {'predictions': [[-41.8343468]]}\n",
      "file Bp_stretch_jpeg/2021-04-30 00-35-18 - recRTB6R0ERH1AJ1 - 8320187672_Az0_0.jpeg returns {'predictions': [[-4.41140509]]}\n",
      "file Bp_stretch_jpeg/2021-04-15 02-31-54 - recRTBJGHELD1AK1 - 8430301577_Az470_0.jpeg returns {'predictions': [[-10.3883696]]}\n",
      "file Bp_stretch_jpeg/2021-04-05 11-51-43 - recRTB6R0EM33AJ1 - 8620397116_Az208_0.jpeg returns {'predictions': [[-39.9422188]]}\n",
      "file Bp_stretch_jpeg/2021-06-24 04-30-15 - recRTBJBHERH1AKA - 8230305334_Az350_0.jpeg returns {'predictions': [[-45.1767273]]}\n",
      "file Bp_stretch_jpeg/2021-06-09 13-17-33 - recRTB6R0ERH1AJ1 - 8230310066_Az347_0.jpeg returns {'predictions': [[-29.8247242]]}\n",
      "file Bp_stretch_jpeg/2021-07-30 14-51-22 - recRTBJBHELD9AK1 - 8320170736_Az0_0.jpeg returns {'predictions': [[-3.51435661]]}\n"
     ]
    }
   ],
   "source": [
    "for x in defect:\n",
    "    print(f'file {x} returns {test(x)}')"
   ]
  },
  {
   "cell_type": "code",
   "execution_count": 70,
   "metadata": {},
   "outputs": [],
   "source": [
    "import os"
   ]
  },
  {
   "cell_type": "code",
   "execution_count": 49,
   "metadata": {},
   "outputs": [],
   "source": [
    "def test(filename):\n",
    "    test_image = PIL.Image.open('images/OK_Images_jpeg/'+filename)\n",
    "    payload = np.array([np.asarray(test_image.resize((1024, 1024)))])\n",
    "    return predictor.predict(payload)\n"
   ]
  },
  {
   "cell_type": "code",
   "execution_count": 68,
   "metadata": {},
   "outputs": [
    {
     "data": {
      "text/plain": [
       "list"
      ]
     },
     "execution_count": 68,
     "metadata": {},
     "output_type": "execute_result"
    }
   ],
   "source": [
    "okay = os.listdir('images/OK_Images_jpeg')\n",
    "okay.remove('.ipynb_checkpoints')\n",
    "type(okay)"
   ]
  },
  {
   "cell_type": "code",
   "execution_count": 69,
   "metadata": {},
   "outputs": [
    {
     "name": "stdout",
     "output_type": "stream",
     "text": [
      "file 2021-11-06 20-33-48 - recRTBJBHEM32AK1 - 8220387057_Az0_0.jpeg returns {'predictions': [[3.40377736]]}\n",
      "file 2021-11-02 12-56-22 - recRTB6R0ELD1AJ1 - 8680493059_Az28_0.jpeg returns {'predictions': [[-32.9966736]]}\n",
      "file 2021-11-02 13-32-23 - recRTB6R0ELD1AJ1 - 8680493032_Az34_0.jpeg returns {'predictions': [[-34.460865]]}\n",
      "file 2021-11-02 14-35-34 - recRTB6R0ELD1AJ1 - 8670530747_Az23_0.jpeg returns {'predictions': [[-33.3209648]]}\n",
      "file 2021-11-02 10-41-30 - recRTBJBHEMA3AK1 - 8230369388_Az0_0.jpeg returns {'predictions': [[3.66664052]]}\n",
      "file 2021-11-06 22-47-51 - recRTBJBHEM32AK1 - 8220387492_Az0_0.jpeg returns {'predictions': [[2.62388492]]}\n",
      "file 2021-11-06 18-53-33 - recRTBJBHEM32AK1 - 8220387049_Az0_0.jpeg returns {'predictions': [[3.43019152]]}\n",
      "file 2021-11-10 13-55-09 - recRTB6O0EMA3AJ1 - 8520324809_Az0_0.jpeg returns {'predictions': [[-14.7914581]]}\n",
      "file 2021-11-07 00-21-08 - recRTBJBHEM32AK1 - 8220387499_Az0_0.jpeg returns {'predictions': [[3.35319853]]}\n",
      "file 2021-11-02 15-59-13 - recRTBJBHEMA3AK1 - 8230369527_Az0_0.jpeg returns {'predictions': [[2.46833324]]}\n",
      "file 2021-11-06 17-21-50 - recRTBJBHEM32AK1 - 8220387024_Az0_0.jpeg returns {'predictions': [[3.5734694]]}\n",
      "file 2021-11-02 22-13-23 - recRTBJBHEMA3AK1 - 8230369562_Az0_0.jpeg returns {'predictions': [[3.21715784]]}\n",
      "file 2021-11-06 19-23-33 - recRTBJBHEM32AK1 - 8220387054_Az0_0.jpeg returns {'predictions': [[3.34921241]]}\n",
      "file 2021-11-02 14-09-50 - recRTB6R0ELD1AJ1 - 8680492983_Az41_0.jpeg returns {'predictions': [[-34.1635246]]}\n",
      "file 2021-11-02 17-44-12 - recRTBJBHEMA3AK1 - 8230369253_Az0_0.jpeg returns {'predictions': [[3.45662594]]}\n",
      "file 2021-11-02 11-54-22 - recRTBJBHEMA3AK1 - 8230369167_Az0_0.jpeg returns {'predictions': [[3.64164209]]}\n",
      "file 2021-11-02 21-03-32 - recRTBJBHEMA3AK1 - 8230369312_Az0_0.jpeg returns {'predictions': [[3.1684165]]}\n",
      "file 2021-11-02 19-11-26 - recRTBJBHEMA3AK1 - 8230369535_Az0_0.jpeg returns {'predictions': [[3.77357268]]}\n",
      "file 2021-11-06 23-53-40 - recRTBJBHEM32AK1 - 8220387462_Az0_0.jpeg returns {'predictions': [[3.52737832]]}\n",
      "file 2021-11-07 03-13-11 - recRTBJBHEM32AK1 - 8220367515_Az0_0.jpeg returns {'predictions': [[3.31006622]]}\n",
      "file 2021-11-02 12-20-36 - recRTBJBHEMA3AK1 - 8230369386_Az0_0.jpeg returns {'predictions': [[3.62539697]]}\n",
      "file 2021-11-06 19-02-32 - recRTBJBHEM32AK1 - 8220387046_Az0_0.jpeg returns {'predictions': [[3.33251858]]}\n",
      "file 2021-11-06 17-01-07 - recRTBJBHEM32AK1 - 8220387029_Az0_0.jpeg returns {'predictions': [[3.40580964]]}\n",
      "file 2021-11-02 18-35-07 - recRTBJBHEMA3AK1 - 8230369496_Az0_0.jpeg returns {'predictions': [[3.68456888]]}\n",
      "file 2021-11-02 08-04-17 - recRTBJBHEMA3AK1 - 8230369205_Az0_0.jpeg returns {'predictions': [[3.02666664]]}\n"
     ]
    }
   ],
   "source": [
    "for x in okay:\n",
    "    print(f'file {x} returns {test(x)}')"
   ]
  },
  {
   "cell_type": "code",
   "execution_count": 72,
   "metadata": {},
   "outputs": [
    {
     "data": {
      "text/plain": [
       "list"
      ]
     },
     "execution_count": 72,
     "metadata": {},
     "output_type": "execute_result"
    }
   ],
   "source": [
    "bad = os.listdir('images/Bp_stretch_jpeg')\n",
    "bad.remove('.ipynb_checkpoints')\n",
    "type(bad)"
   ]
  },
  {
   "cell_type": "code",
   "execution_count": 75,
   "metadata": {},
   "outputs": [],
   "source": [
    "def test(filename):\n",
    "    test_image = PIL.Image.open('images/Bp_stretch_jpeg/'+filename)\n",
    "    payload = np.array([np.asarray(test_image.resize((1024, 1024)))])\n",
    "    return predictor.predict(payload)\n"
   ]
  },
  {
   "cell_type": "code",
   "execution_count": 76,
   "metadata": {},
   "outputs": [
    {
     "name": "stdout",
     "output_type": "stream",
     "text": [
      "file 2021-07-09 13-43-12 - recRTBJBHEMA3AK1 - 8320176167_Az0_0.jpeg returns {'predictions': [[2.93309474]]}\n",
      "file 2021-04-15 02-31-54 - recRTBJGHELD1AK1 - 8430301577_Az470_0.jpeg returns {'predictions': [[-10.3883696]]}\n",
      "file 2021-04-30 01-34-19 - recRTB6R0EML1AJ1 - 8520268465_Az0_0.jpeg returns {'predictions': [[-4.12485123]]}\n",
      "file 2021-07-05 14-03-55 - recRTB6R0ELD1AJ1 - 6700014327_Az352_0.jpeg returns {'predictions': [[-35.651474]]}\n",
      "file 2021-06-09 13-17-33 - recRTB6R0ERH1AJ1 - 8230310066_Az347_0.jpeg returns {'predictions': [[-29.8247242]]}\n",
      "file 2021-04-24 05-42-21 - recRTB6O0EMA3AJ1 - 8130297515_Az26_0.jpeg returns {'predictions': [[-41.8343468]]}\n",
      "file 2021-04-30 00-35-18 - recRTB6R0ERH1AJ1 - 8320187672_Az0_0.jpeg returns {'predictions': [[-4.41140509]]}\n",
      "file 2021-06-06 01-55-32 - recRTBJBHELD9AK1 - 8330335036_Az340_0.jpeg returns {'predictions': [[-38.8759956]]}\n",
      "file 2021-05-07 07-47-12 - recRTB6R0ELD1AJ1 - 8670424593_Az54_0.jpeg returns {'predictions': [[-29.6681175]]}\n",
      "file 2021-07-27 18-04-24 - recRLB0RGECT3ALU - 8640441095_Az176_0.jpeg returns {'predictions': [[1.98878276]]}\n",
      "file 2019-08-05 06-10-40 - recRTBJBHELD9AK1 - 8620146043_Az264_0.jpeg returns {'predictions': [[-40.1468773]]}\n",
      "file 2021-08-05 14-09-37 - recRTBJBHEM32AK1 - 8640264860_Az42_0.jpeg returns {'predictions': [[-37.2705269]]}\n",
      "file 2021-07-18 02-33-52 - recRTBJ7HELD1AK1 - 3300012551_Az0_0.jpeg returns {'predictions': [[2.65270543]]}\n",
      "file 2021-06-20 11-22-48 - recRTBJBHEM32AK1 - 3300010539_Az238_0.jpeg returns {'predictions': [[-42.809639]]}\n",
      "file 2021-07-02 19-28-05 - recRTBJBHEM32AK1 - 2200024327_Az470_0.jpeg returns {'predictions': [[-27.805685]]}\n",
      "file 2021-06-09 10-01-59 - recRLBJLHETD1AKA - 6600007278_Az346_0.jpeg returns {'predictions': [[-10.7355642]]}\n",
      "file 2020-06-30 13-13-29 - recRTBJBHELD9AK1 - 8660285064_Az37_0.jpeg returns {'predictions': [[-31.8392506]]}\n",
      "file 2019-07-20 19-33-08 - recRTBJBHELD9AK1 - 8640159619_Az45_0.jpeg returns {'predictions': [[-42.2581749]]}\n",
      "file 2021-06-24 04-30-15 - recRTBJBHERH1AKA - 8230305334_Az350_0.jpeg returns {'predictions': [[-45.1767273]]}\n",
      "file 2021-04-05 11-51-43 - recRTB6R0EM33AJ1 - 8620397116_Az208_0.jpeg returns {'predictions': [[-39.9422188]]}\n",
      "file 2021-07-28 04-18-24 - recRTBJBHEMA3AK1 - 8000079415_Az44_0.jpeg returns {'predictions': [[-39.9867287]]}\n",
      "file 2021-08-02 09-33-32 - recRTB6R0ELD1AJ1 - 8230358838_Az49_0.jpeg returns {'predictions': [[-26.949564]]}\n",
      "file 2021-05-24 13-23-17 - recRTBJBHELD9AK1 - 8510350040_Az268_0.jpeg returns {'predictions': [[-18.9840355]]}\n",
      "file 2019-08-04 14-18-32 - recRTBJBHELD9AK1 - 8210138837_Az214_0.jpeg returns {'predictions': [[-38.9407272]]}\n",
      "file 2021-07-30 14-51-22 - recRTBJBHELD9AK1 - 8320170736_Az0_0.jpeg returns {'predictions': [[-3.51435661]]}\n"
     ]
    }
   ],
   "source": [
    "for x in bad:\n",
    "    print(f'file {x} returns {test(x)}')"
   ]
  },
  {
   "cell_type": "code",
   "execution_count": 77,
   "metadata": {},
   "outputs": [],
   "source": [
    "predictor.delete_endpoint()"
   ]
  },
  {
   "cell_type": "code",
   "execution_count": null,
   "metadata": {},
   "outputs": [],
   "source": []
  }
 ],
 "metadata": {
  "kernelspec": {
   "display_name": "Python 3 (Data Science)",
   "language": "python",
   "name": "python3__SAGEMAKER_INTERNAL__arn:aws:sagemaker:ap-south-1:394103062818:image/datascience-1.0"
  },
  "language_info": {
   "codemirror_mode": {
    "name": "ipython",
    "version": 3
   },
   "file_extension": ".py",
   "mimetype": "text/x-python",
   "name": "python",
   "nbconvert_exporter": "python",
   "pygments_lexer": "ipython3",
   "version": "3.7.10"
  }
 },
 "nbformat": 4,
 "nbformat_minor": 4
}
