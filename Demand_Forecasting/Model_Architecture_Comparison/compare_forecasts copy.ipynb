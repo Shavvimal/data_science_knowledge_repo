{
 "cells": [
  {
   "cell_type": "code",
   "execution_count": 1,
   "metadata": {},
   "outputs": [],
   "source": [
    "import numpy as np\n",
    "import pandas as pd\n",
    "import matplotlib.pyplot as plt\n",
    "import pickle\n",
    "from sklearn.metrics import mean_squared_error, mean_absolute_percentage_error, mean_absolute_error\n",
    "from scipy import stats"
   ]
  },
  {
   "cell_type": "code",
   "execution_count": 21,
   "metadata": {},
   "outputs": [],
   "source": [
    "# Load data\n",
    "TFT_predictions = np.load('./Tensors/TFT_predictions.npy', allow_pickle=True)\n",
    "naive_predictions = np.load('./Tensors/baseline_predictions (1).npy', allow_pickle=True)\n",
    "tests = np.load('./Tensors/actual_sales.npy', allow_pickle=True)\n",
    "data = pd.read_csv('data_processed_plant_item_encoded_13_03_22.csv')"
   ]
  },
  {
   "cell_type": "code",
   "execution_count": 22,
   "metadata": {},
   "outputs": [],
   "source": [
    "#classifications = np.load('forecast_classification.npy')"
   ]
  },
  {
   "cell_type": "code",
   "execution_count": 23,
   "metadata": {},
   "outputs": [],
   "source": [
    "def create_ensemble_preds(clf, TFT_preds_clf):\n",
    "    TFT_ensemble_predictions = np.zeros((len(clf), 6))\n",
    "    for i in range(len(clf)):\n",
    "        if clf[i] == 0:\n",
    "            TFT_ensemble_predictions[i, :] = np.zeros((6))\n",
    "        else:\n",
    "            TFT_ensemble_predictions[i, :] = TFT_preds_clf[i, :]\n",
    "    return TFT_ensemble_predictions\n",
    "#TFT_ensemble_predictions =create_ensemble_preds(classifications, TFT_predictions)"
   ]
  },
  {
   "cell_type": "code",
   "execution_count": 48,
   "metadata": {},
   "outputs": [
    {
     "name": "stdout",
     "output_type": "stream",
     "text": [
      "TFT\n",
      "\n",
      " total residual : 3017482.9082693593\n",
      " total volume: 3017473.0\n",
      "mean squared error:                               70773.31\n",
      "mean absolute error:                              48.12\n",
      "mean absolute percentage error:           0.39 %\n",
      "mean absolute percentage error weighted:  100.0 %\n",
      "\n",
      "naive\n",
      "\n",
      " total residual : 2543879.0\n",
      " total volume: 3017473.0\n",
      "mean squared error:                               41915.38\n",
      "mean absolute error:                              40.57\n",
      "mean absolute percentage error:           3.35 %\n",
      "mean absolute percentage error weighted:  84.3 %\n",
      "\n"
     ]
    }
   ],
   "source": [
    "def WMAPE_calc(preds, tests):\n",
    "    flat_pred = np.array(preds).flatten()\n",
    "    flat_test = np.array(tests).flatten()\n",
    "    residuals = []\n",
    "    for i in range(len(flat_pred)):\n",
    "        residuals.append(abs(flat_test[i] - flat_pred[i]))\n",
    "    WMAPE = 100 * (np.sum(residuals) / np.sum(flat_test))\n",
    "    return WMAPE\n",
    "\n",
    "def WMAPE2_calc(preds, tests):\n",
    "    preds = preds\n",
    "    tests = tests\n",
    "    total_vol = np.sum(tests)\n",
    "    residuals = 0\n",
    "    total_vol = np.sum(tests)\n",
    "    for i in range(preds.shape[0]):\n",
    "        pred = preds[i, :]\n",
    "        for t in range(len(pred)):\n",
    "            residuals += abs(pred[t] - tests[i, t])\n",
    "    print(f' total residual : {residuals}')\n",
    "    print(f' total volume: {total_vol}')\n",
    "    WMAPE_2 = (residuals / total_vol) * 100\n",
    "    return WMAPE_2\n",
    "\n",
    "def metric_test(preds, tests):\n",
    "    MSEs = []\n",
    "    MAPEs = []\n",
    "    MAE = []\n",
    "    for i in range(preds.shape[0]):\n",
    "        pred = preds[i, :]\n",
    "        test = tests[i, :]\n",
    "        MSEs.append(mean_squared_error(test, pred))\n",
    "        MAPEs.append(mean_absolute_percentage_error(test + 1, pred + 1))\n",
    "        MAE.append(mean_absolute_error(test, pred))\n",
    "    WMAPE = WMAPE_calc(preds, tests)\n",
    "    WMAPE_2 = WMAPE2_calc(preds, tests)\n",
    "    #WMAPE_2 = WMAPE_calc_2(preds, tests)\n",
    "    print('mean squared error:                              ', round(np.mean(MSEs), 2))\n",
    "    print('mean absolute error:                             ', round(np.mean(MAE), 2))\n",
    "    print('mean absolute percentage error:          ', round(np.mean(MAPEs), 2), '%')\n",
    "    #print('mean absolute percentage error weighted: ', round(WMAPE, 2), '%')\n",
    "    print('mean absolute percentage error weighted: ', round(WMAPE_2, 2), '%')\n",
    "\n",
    "def compare_performance(model_dict, tests):\n",
    "    for model in list(model_dict.keys()):\n",
    "        print(model)\n",
    "        print('')\n",
    "        metric_test(model_dict[model], tests)\n",
    "        print('')\n",
    "\n",
    "\n",
    "model_dict = {'TFT':TFT_predictions, 'naive':naive_predictions}\n",
    "compare_performance(model_dict, tests)"
   ]
  },
  {
   "cell_type": "code",
   "execution_count": 49,
   "metadata": {},
   "outputs": [
    {
     "name": "stdout",
     "output_type": "stream",
     "text": [
      "[[203.   0.   0.   0.   0.   0.]\n",
      " [  0.   0.  10.   3.   0.   0.]\n",
      " [  0.   0.   8.   8.   4.   1.]\n",
      " [  0.  40.  38.   0.  78.  42.]]\n"
     ]
    }
   ],
   "source": [
    "print(tests[0:4])"
   ]
  },
  {
   "cell_type": "code",
   "execution_count": 44,
   "metadata": {},
   "outputs": [],
   "source": [
    "def sum_over_plants(array, data):\n",
    "    timeseries_list = list(data['timeseries'].unique())\n",
    "    item_dict = {}\n",
    "    for i in range(len(timeseries_list)):\n",
    "        timeseries = data[data['timeseries'] == timeseries_list[i]]\n",
    "        itemID = list(timeseries['ParentItemID'].unique())[0]\n",
    "        if itemID not in list(item_dict.keys()):\n",
    "            item_dict[itemID] = array[i, :]\n",
    "        else:\n",
    "            prev_vol = item_dict[itemID]\n",
    "            #print(prev_vol)\n",
    "            #print(array[i, :])\n",
    "            new_vol = prev_vol + array[i, :]\n",
    "            #print(new_vol)\n",
    "            #print('')\n",
    "            item_dict[itemID] = new_vol\n",
    "    print(len(list(item_dict.keys())))\n",
    "    print(len(data['ParentItemID'].unique()))\n",
    "    print('')\n",
    "    return item_dict"
   ]
  },
  {
   "cell_type": "code",
   "execution_count": 45,
   "metadata": {},
   "outputs": [
    {
     "name": "stdout",
     "output_type": "stream",
     "text": [
      "1068\n",
      "1068\n",
      "\n",
      "1068\n",
      "1068\n",
      "\n",
      "1068\n",
      "1068\n",
      "\n"
     ]
    }
   ],
   "source": [
    "test_item_dict = sum_over_plants(tests, data)\n",
    "\n",
    "TFT_preds_dict = sum_over_plants(TFT_predictions, data)\n",
    "\n",
    "naive_preds_dict = sum_over_plants(naive_predictions, data)"
   ]
  },
  {
   "cell_type": "code",
   "execution_count": 46,
   "metadata": {},
   "outputs": [],
   "source": [
    "def WMAPE2_calc(pred_dict, test_dict, model):\n",
    "    residuals = 0\n",
    "    total_vol = np.sum(list(test_dict.values()))\n",
    "    for itemID in list(pred_dict.keys()):\n",
    "        pred = pred_dict[itemID] \n",
    "        test = test_dict[itemID] \n",
    "        for t in range(len(pred)):\n",
    "            residuals += abs(pred[t] - test[t])\n",
    "    \n",
    "    print(f'total residual : {residuals} for {model}')\n",
    "    print(f'total volume: {total_vol} for {model}')\n",
    "    WMAPE_2 = (residuals / total_vol) * 100\n",
    "    print('Weighted and aggregated MAPE for:', model, ':', round(WMAPE_2, 2), '%')"
   ]
  },
  {
   "cell_type": "code",
   "execution_count": 47,
   "metadata": {},
   "outputs": [
    {
     "name": "stdout",
     "output_type": "stream",
     "text": [
      "total residual : 3017391.1049483516 for TFT\n",
      "total volume: 3017473.0 for TFT\n",
      "Weighted and aggregated MAPE for: TFT : 100.0 %\n",
      "total residual : 1882003.0 for Naive\n",
      "total volume: 3017473.0 for Naive\n",
      "Weighted and aggregated MAPE for: Naive : 62.37 %\n"
     ]
    }
   ],
   "source": [
    "models = ['TFT', 'Naive']\n",
    "\n",
    "WMAPE2_calc(TFT_preds_dict, test_item_dict, models[0])\n",
    "\n",
    "WMAPE2_calc(naive_preds_dict, test_item_dict, models[1])"
   ]
  },
  {
   "cell_type": "code",
   "execution_count": null,
   "metadata": {},
   "outputs": [],
   "source": []
  },
  {
   "cell_type": "code",
   "execution_count": null,
   "metadata": {},
   "outputs": [],
   "source": []
  }
 ],
 "metadata": {
  "interpreter": {
   "hash": "39107c45289741facd1c574d4c3f3f1db037868d86098ed4da8abb8e076ff11e"
  },
  "kernelspec": {
   "display_name": "Python 3.8.11 ('base')",
   "language": "python",
   "name": "python3"
  },
  "language_info": {
   "codemirror_mode": {
    "name": "ipython",
    "version": 3
   },
   "file_extension": ".py",
   "mimetype": "text/x-python",
   "name": "python",
   "nbconvert_exporter": "python",
   "pygments_lexer": "ipython3",
   "version": "3.8.12"
  },
  "orig_nbformat": 4
 },
 "nbformat": 4,
 "nbformat_minor": 2
}
