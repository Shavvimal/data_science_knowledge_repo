{
 "cells": [
  {
   "cell_type": "markdown",
   "metadata": {},
   "source": [
    "<ins>Logical Workflow PA Project</ins>\n",
    "\n",
    "0. Call Data from SQL Server and save to local .pkl. Filter by TBM 1 and time span ('2022/02/01', '2022/04/01')\n",
    "1. Join data for a complete dataset\n",
    "2. Initial Filter (by Equipment ID and remove Trial Recipes), key generation, cycle time generation and EDA\n",
    "\n"
   ]
  },
  {
   "cell_type": "code",
   "execution_count": 4,
   "metadata": {},
   "outputs": [],
   "source": [
    "import pandas as pd\n",
    "from collections import Counter\n",
    "from helpers import TBM, bcolors, Data_Functions\n",
    "import seaborn as sns\n",
    "import matplotlib.pyplot as plt\n",
    "import numpy as np\n",
    "\n",
    "DF = Data_Functions()\n",
    "TBM = TBM()\n",
    "p = bcolors()"
   ]
  },
  {
   "cell_type": "code",
   "execution_count": 7,
   "metadata": {},
   "outputs": [],
   "source": [
    "#df_tbm = pd.read_pickle(\"./df_tbm_master.pkl\")\n",
    "#df_alarm = pd.read_pickle(\"./pkl_old/-df_alarm_master\")\n",
    "#df_map = pd.read_pickle(\"./pkl_old/df_alarm_map_master.pkl\") \n",
    "df_tbm = pd.read_pickle(\"./pkl/df_tbm_master.pkl\")\n",
    "df_alarm = pd.read_pickle(\"./pkl/df_alarm_master.pkl\")\n",
    "df_map = pd.read_pickle(\"./pkl/df_map_master.pkl\")#./pkl/df_alarm_map_master\n",
    "\n",
    "\n",
    "df_tbm2 = pd.read_pickle(\"./pkl/tbm_data.pkl\")\n",
    "df_alarm2 = pd.read_pickle(\"./pkl/tbm_alarm.pkl\")\n",
    "df_map2 = pd.read_pickle(\"./pkl/alarm_map.pkl\")"
   ]
  },
  {
   "cell_type": "code",
   "execution_count": 8,
   "metadata": {},
   "outputs": [
    {
     "name": "stdout",
     "output_type": "stream",
     "text": [
      "\u001b[92mTBM 1 start date: \u001b[0m 2022-02-01 06:00:16\u001b[92m  End Date: \u001b[0m 2022-05-16 05:59:38\n",
      "\u001b[92mTBM 2 start date: \u001b[0m 2022-05-15 06:00:02\u001b[92m  End Date: \u001b[0m 2022-05-16 05:59:38\n",
      "\u001b[92mlength 1: \u001b[0m 1326286\n",
      "\u001b[92mlength 2: \u001b[0m 11322\n"
     ]
    }
   ],
   "source": [
    "p.printg(f'TBM 1 start date: {p.ENDC} {df_tbm.ProducedOn.min()}{p.GREEN}  End Date: {p.ENDC} {df_tbm.ProducedOn.max()}')\n",
    "p.printg(f'TBM 2 start date: {p.ENDC} {df_tbm2.ProducedOn.min()}{p.GREEN}  End Date: {p.ENDC} {df_tbm2.ProducedOn.max()}')\n",
    "p.printg(f'length 1: {p.ENDC} {len(df_tbm)}')\n",
    "p.printg(f'length 2: {p.ENDC} {len(df_tbm2)}')"
   ]
  },
  {
   "cell_type": "code",
   "execution_count": 9,
   "metadata": {},
   "outputs": [],
   "source": [
    "df_tbm_join = pd.concat([df_tbm, df_tbm2]).drop_duplicates()"
   ]
  },
  {
   "cell_type": "code",
   "execution_count": 10,
   "metadata": {},
   "outputs": [
    {
     "name": "stdout",
     "output_type": "stream",
     "text": [
      "\u001b[92mlength join: \u001b[0m 1326286\n"
     ]
    }
   ],
   "source": [
    "p.printg(f'length join: {p.ENDC} {len(df_tbm_join)}')"
   ]
  },
  {
   "cell_type": "code",
   "execution_count": 34,
   "metadata": {},
   "outputs": [
    {
     "data": {
      "text/html": [
       "<div>\n",
       "<style scoped>\n",
       "    .dataframe tbody tr th:only-of-type {\n",
       "        vertical-align: middle;\n",
       "    }\n",
       "\n",
       "    .dataframe tbody tr th {\n",
       "        vertical-align: top;\n",
       "    }\n",
       "\n",
       "    .dataframe thead th {\n",
       "        text-align: right;\n",
       "    }\n",
       "</style>\n",
       "<table border=\"1\" class=\"dataframe\">\n",
       "  <thead>\n",
       "    <tr style=\"text-align: right;\">\n",
       "      <th></th>\n",
       "      <th>MessageID</th>\n",
       "      <th>PlcNr</th>\n",
       "      <th>Type</th>\n",
       "      <th>Name</th>\n",
       "      <th>Solution</th>\n",
       "      <th>EquipmentID</th>\n",
       "    </tr>\n",
       "  </thead>\n",
       "  <tbody>\n",
       "    <tr>\n",
       "      <th>9720</th>\n",
       "      <td>9723</td>\n",
       "      <td>60240021</td>\n",
       "      <td>MC</td>\n",
       "      <td>GREEN TIRE STITCHER, RADIAL NOT ALL CALIBRATIO...</td>\n",
       "      <td>None</td>\n",
       "      <td>TBM 11</td>\n",
       "    </tr>\n",
       "  </tbody>\n",
       "</table>\n",
       "</div>"
      ],
      "text/plain": [
       "      MessageID     PlcNr Type  \\\n",
       "9720       9723  60240021   MC   \n",
       "\n",
       "                                                   Name Solution EquipmentID  \n",
       "9720  GREEN TIRE STITCHER, RADIAL NOT ALL CALIBRATIO...     None      TBM 11  "
      ]
     },
     "execution_count": 34,
     "metadata": {},
     "output_type": "execute_result"
    }
   ],
   "source": [
    "pd.concat([df_map,df_map2]).drop_duplicates(keep=False)"
   ]
  },
  {
   "cell_type": "code",
   "execution_count": 11,
   "metadata": {},
   "outputs": [
    {
     "data": {
      "text/html": [
       "<div>\n",
       "<style scoped>\n",
       "    .dataframe tbody tr th:only-of-type {\n",
       "        vertical-align: middle;\n",
       "    }\n",
       "\n",
       "    .dataframe tbody tr th {\n",
       "        vertical-align: top;\n",
       "    }\n",
       "\n",
       "    .dataframe thead th {\n",
       "        text-align: right;\n",
       "    }\n",
       "</style>\n",
       "<table border=\"1\" class=\"dataframe\">\n",
       "  <thead>\n",
       "    <tr style=\"text-align: right;\">\n",
       "      <th></th>\n",
       "      <th>MessageID</th>\n",
       "      <th>PlcNr</th>\n",
       "      <th>Type</th>\n",
       "      <th>Name</th>\n",
       "      <th>Solution</th>\n",
       "      <th>EquipmentID</th>\n",
       "    </tr>\n",
       "  </thead>\n",
       "  <tbody>\n",
       "    <tr>\n",
       "      <th>7243</th>\n",
       "      <td>9723</td>\n",
       "      <td>60240021</td>\n",
       "      <td>MC</td>\n",
       "      <td>GREEN TIRE STITCHER, RADIAL NOT ALL CALIBRATIO...</td>\n",
       "      <td>None</td>\n",
       "      <td>TBM 11</td>\n",
       "    </tr>\n",
       "  </tbody>\n",
       "</table>\n",
       "</div>"
      ],
      "text/plain": [
       "      MessageID     PlcNr Type  \\\n",
       "7243       9723  60240021   MC   \n",
       "\n",
       "                                                   Name Solution EquipmentID  \n",
       "7243  GREEN TIRE STITCHER, RADIAL NOT ALL CALIBRATIO...     None      TBM 11  "
      ]
     },
     "execution_count": 11,
     "metadata": {},
     "output_type": "execute_result"
    }
   ],
   "source": [
    "df_map2[df_map2.MessageID == 9723]"
   ]
  },
  {
   "cell_type": "markdown",
   "metadata": {},
   "source": [
    "This differnce exists in df_map2 so we will keep that as the master file. "
   ]
  },
  {
   "cell_type": "code",
   "execution_count": 12,
   "metadata": {},
   "outputs": [
    {
     "name": "stdout",
     "output_type": "stream",
     "text": [
      "\u001b[92mAlarm 1 start date: \u001b[0m 2022-02-01 00:00:30.6302739\u001b[92m  End Date: \u001b[0m 2022-05-15 23:59:57.9512792\n",
      "\u001b[92mAlarm 2 start date: \u001b[0m 2022-05-15 00:00:00.5584421\u001b[92m  End Date: \u001b[0m 2022-05-15 23:59:57.9512792\n",
      "\u001b[92mlength 1: \u001b[0m 8600975\n",
      "\u001b[92mlength 2: \u001b[0m 90225\n"
     ]
    }
   ],
   "source": [
    "p.printg(f'Alarm 1 start date: {p.ENDC} {df_alarm.TimeStamp.min()}{p.GREEN}  End Date: {p.ENDC} {df_alarm.TimeStamp.max()}')\n",
    "p.printg(f'Alarm 2 start date: {p.ENDC} {df_alarm2.TimeStamp.min()}{p.GREEN}  End Date: {p.ENDC} {df_alarm2.TimeStamp.max()}')\n",
    "p.printg(f'length 1: {p.ENDC} {len(df_alarm)}')\n",
    "p.printg(f'length 2: {p.ENDC} {len(df_alarm2)}')"
   ]
  },
  {
   "cell_type": "code",
   "execution_count": 13,
   "metadata": {},
   "outputs": [],
   "source": [
    "df_alarm_join = pd.concat([df_alarm, df_alarm2]).drop_duplicates()"
   ]
  },
  {
   "cell_type": "code",
   "execution_count": 14,
   "metadata": {},
   "outputs": [],
   "source": [
    "df_map2.to_pickle(\"./pkl/df_map_master.pkl\")\n",
    "df_alarm_join.to_pickle(\"./pkl/df_alarm_master.pkl\")\n",
    "df_tbm_join.to_pickle(\"./pkl/df_tbm_master.pkl\")"
   ]
  },
  {
   "cell_type": "code",
   "execution_count": null,
   "metadata": {},
   "outputs": [],
   "source": []
  }
 ],
 "metadata": {
  "kernelspec": {
   "display_name": "Python 3.9.12 ('base')",
   "language": "python",
   "name": "python3"
  },
  "language_info": {
   "codemirror_mode": {
    "name": "ipython",
    "version": 3
   },
   "file_extension": ".py",
   "mimetype": "text/x-python",
   "name": "python",
   "nbconvert_exporter": "python",
   "pygments_lexer": "ipython3",
   "version": "3.9.12"
  },
  "orig_nbformat": 4,
  "vscode": {
   "interpreter": {
    "hash": "15f33d0692bbd1817d407ce2cd79d9724d1ca3c1d3de950c0951a0efd263d5ca"
   }
  }
 },
 "nbformat": 4,
 "nbformat_minor": 2
}
