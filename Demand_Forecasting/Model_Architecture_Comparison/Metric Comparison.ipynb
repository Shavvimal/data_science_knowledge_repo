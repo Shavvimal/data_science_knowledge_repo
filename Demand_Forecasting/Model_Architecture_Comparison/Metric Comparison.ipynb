{
  "cells": [
    {
      "cell_type": "code",
      "execution_count": 158,
      "metadata": {
        "id": "CSHdHVDP0t96"
      },
      "outputs": [],
      "source": [
        "import pandas as pd\n",
        "import numpy as np"
      ]
    },
    {
      "cell_type": "code",
      "execution_count": 159,
      "metadata": {
        "id": "p0qs8Lh10t99"
      },
      "outputs": [],
      "source": [
        "%matplotlib inline\n",
        "import matplotlib.pyplot as plt\n",
        "import tensorflow as tf\n",
        "from sklearn.preprocessing import MinMaxScaler"
      ]
    },
    {
      "cell_type": "code",
      "execution_count": 160,
      "metadata": {
        "id": "Cqg2gAxkzOF2"
      },
      "outputs": [],
      "source": [
        "main_dataset = pd.read_csv(\"drive/MyDrive/data_processed_plant_item_encoded_13_03_22.csv\")"
      ]
    },
    {
      "cell_type": "code",
      "execution_count": 162,
      "metadata": {
        "id": "BbDszevyI68p"
      },
      "outputs": [],
      "source": [
        "# Load data from Tensors\n",
        "TFT_predictions = np.load('drive/MyDrive/Tensors/TFT_predictions.npy', allow_pickle=True)\n",
        "naive_predictions = np.load('drive/MyDrive/Tensors/baseline_predictions.npy', allow_pickle=True)\n",
        "actual = np.load('drive/MyDrive/Tensors/actual_sales.npy', allow_pickle=True)"
      ]
    },
    {
      "cell_type": "markdown",
      "metadata": {
        "id": "kbLLErTWNwfB"
      },
      "source": [
        "# Baseline Error Performance\n",
        "\n",
        "In order to compare model perofrmance we need an estimate of bayes limit for the problem. In this case we do not have a human error reference. So we use the the lowest of the following:\n",
        "- APO recorded forecast. This is the collection of models used by the sales team (when we receive it that is)\n",
        "- Persistance 1 month. Using the observed values from the previous months as the prediction of the next month. This is the Naive Forecast\n",
        "- Persistance 3 month mean. Using the observations from the previous 3 months as the prediction of the next month.\n",
        "\n",
        "By establishing a baseline error we have a refernce to compare our training and validation set performance. This guides us to understand where and how a model is performance. For example, if our bayes error is MAE 5% and our model training and validation perform at MAE 6% and 9% respectively then the relevant obserevation is that our model performs with high variance with respect to the baseline. The contrary is true if we consider baseline, train, and validation MAEs of 5%, 8%, and 8.5% respectively. In the latter case we should work on the bias of the training set before considering the validation performance (low variance)."
      ]
    },
    {
      "cell_type": "code",
      "execution_count": 164,
      "metadata": {
        "id": "CBMjJ1LXAvUq"
      },
      "outputs": [],
      "source": [
        "main_dataset['perisitence_1'] = main_dataset['Volume'].shift(1)\n",
        "main_dataset['perisitence_2'] = main_dataset['Volume'].shift(2)\n",
        "main_dataset['perisitence_3'] = main_dataset['Volume'].shift(3)\n",
        "main_dataset['perisitence_3_mean'] = (main_dataset['perisitence_1'] + main_dataset['perisitence_2'] + main_dataset['perisitence_3']) / 3 "
      ]
    },
    {
      "cell_type": "code",
      "execution_count": 165,
      "metadata": {
        "colab": {
          "base_uri": "https://localhost:8080/"
        },
        "id": "H6XEFJhsLmy_",
        "outputId": "5228e9b4-6221-489b-db10-8ea11827c322"
      },
      "outputs": [
        {
          "name": "stdout",
          "output_type": "stream",
          "text": [
            "The difference between Actual Output and Original is:  0.0\n",
            "\u001b[93m You have NaN's in your main_dataset dataset\n"
          ]
        }
      ],
      "source": [
        "# Filter by relevant Timesteps for predictions that have been made\n",
        "subset_of_main_data = main_dataset[['ParentItemID', 'PlantID', 'time_idx', 'timeseries', 'Volume', 'perisitence_1', 'perisitence_3_mean']]\n",
        "subset_of_main_data = subset_of_main_data[subset_of_main_data['time_idx'].isin([29, 30, 31, 32, 33, 34])]\n",
        "subset_of_main_data = subset_of_main_data.reset_index()\n",
        "\n",
        "# Add in the datasets from Tensors\n",
        "subset_of_main_data['actuals_output'] = np.array(actual).flatten()\n",
        "subset_of_main_data['naive_predictions'] = np.array(naive_predictions).flatten()\n",
        "subset_of_main_data['TFT_predictions'] = np.array(TFT_predictions).flatten()\n",
        "\n",
        "# Check that Actual is done properly\n",
        "print(f\"The difference between Actual Output and Original is:  {(subset_of_main_data['actuals_output'] - subset_of_main_data['Volume']).sum()}\")\n",
        "\n",
        "# Check for NaN's in Dataset. If there were nans, we would fill nans with linear interpolation because this is how we will fill when using the data in the models.\n",
        "if sum(list(main_dataset.isna().sum())) > 0:\n",
        "  print('\\033[93m You have NaN\\'s in your main_dataset dataset')\n",
        "\n",
        "if sum(list(subset_of_main_data.isna().sum())) > 0:\n",
        "  print('\\033[93m You have NaN\\'s in your subset_of_main_data dataset')\n"
      ]
    },
    {
      "cell_type": "code",
      "execution_count": 207,
      "metadata": {
        "id": "gvAA2qQ_EBCb"
      },
      "outputs": [],
      "source": [
        "aggregate = subset_of_main_data.groupby(['ParentItemID', 'time_idx']).agg('sum')\n",
        "aggregate.drop(['index', 'timeseries'], axis=1, inplace=True)"
      ]
    },
    {
      "cell_type": "code",
      "execution_count": 168,
      "metadata": {
        "colab": {
          "base_uri": "https://localhost:8080/"
        },
        "id": "ez2a_lLVW0me",
        "outputId": "cdcd75da-3d35-4257-d045-d93b54c76430"
      },
      "outputs": [
        {
          "data": {
            "text/plain": [
              "Index(['index', 'ParentItemID', 'PlantID', 'time_idx', 'timeseries', 'Volume',\n",
              "       'perisitence_1', 'perisitence_3_mean', 'actuals_output',\n",
              "       'naive_predictions', 'TFT_predictions'],\n",
              "      dtype='object')"
            ]
          },
          "execution_count": 168,
          "metadata": {},
          "output_type": "execute_result"
        }
      ],
      "source": [
        "subset_of_main_data.columns"
      ]
    },
    {
      "cell_type": "code",
      "execution_count": 208,
      "metadata": {
        "id": "I3E0lcveTtbd"
      },
      "outputs": [],
      "source": [
        "def MAE(dataset, forecast):\n",
        "  return tf.keras.losses.MAE(dataset[\"Volume\"], dataset[forecast]).numpy()"
      ]
    },
    {
      "cell_type": "code",
      "execution_count": 209,
      "metadata": {
        "id": "iP04Ani-5Egt"
      },
      "outputs": [],
      "source": [
        "def WMAPE(dataset, forecast):\n",
        "  WMAPE_output = (( abs(  dataset[forecast] - dataset['actuals_output']  ) ).sum() / dataset['actuals_output'].sum()) * 100\n",
        "  return WMAPE_output"
      ]
    },
    {
      "cell_type": "code",
      "execution_count": 335,
      "metadata": {
        "id": "5wTv0tMeydLW"
      },
      "outputs": [],
      "source": [
        "list_of_forecasts = [\n",
        "                    #  'APO_forecast', 'SalesHead_Corr_Forecast', \n",
        "                     'naive_predictions', 'perisitence_1', 'perisitence_3_mean', 'actuals_output', 'TFT_predictions']\n",
        "\n",
        "ref_error = pd.DataFrame({\n",
        "    \"Method\": list_of_forecasts,\n",
        "    \"MAE\": [\n",
        "            MAE(subset_of_main_data, list_of_forecasts[0]),\n",
        "            MAE(subset_of_main_data, list_of_forecasts[1]),\n",
        "            MAE(subset_of_main_data, list_of_forecasts[2]),\n",
        "            MAE(subset_of_main_data, list_of_forecasts[3]),\n",
        "            MAE(subset_of_main_data, list_of_forecasts[4])],\n",
        "    \"WMAPE\":[\n",
        "            WMAPE(subset_of_main_data, list_of_forecasts[0]),\n",
        "            WMAPE(subset_of_main_data, list_of_forecasts[1]),\n",
        "            WMAPE(subset_of_main_data, list_of_forecasts[2]),\n",
        "            WMAPE(subset_of_main_data, list_of_forecasts[3]), \n",
        "            WMAPE(subset_of_main_data, list_of_forecasts[4])],\n",
        "     \"Aggregated WMAPE\":[\n",
        "            WMAPE(aggregate, list_of_forecasts[0]),\n",
        "            WMAPE(aggregate, list_of_forecasts[1]),\n",
        "            WMAPE(aggregate, list_of_forecasts[2]),\n",
        "            WMAPE(aggregate, list_of_forecasts[3]), \n",
        "            WMAPE(aggregate, list_of_forecasts[4])]       }, \n",
        "    index=[i for i in range(len(list_of_forecasts))])"
      ]
    },
    {
      "cell_type": "code",
      "execution_count": 354,
      "metadata": {
        "colab": {
          "base_uri": "https://localhost:8080/",
          "height": 241
        },
        "id": "dfCb1WSEGZOt",
        "outputId": "e4a411b0-f84b-4e5f-ceba-c040831ad958"
      },
      "outputs": [
        {
          "name": "stdout",
          "output_type": "stream",
          "text": [
            "DataFrame maximum in red, and column maximums in orange. If metric is larger than Naive i.e.[0] for that metric, text is dark red\n",
            "\u001b[93m Summary of errors:\n"
          ]
        },
        {
          "data": {
            "text/html": [
              "<style type=\"text/css\">\n",
              "#T_235a4_ td:hover {\n",
              "  background-color: white;\n",
              "  color: black;\n",
              "}\n",
              "#T_235a4_ .index_name {\n",
              "  font-style: italic;\n",
              "  color: darkgrey;\n",
              "  font-weight: normal;\n",
              "}\n",
              "#T_235a4_ th:not(.index_name) {\n",
              "  background-color: #8900f2;\n",
              "  color: white;\n",
              "}\n",
              "#T_235a4_row0_col0, #T_235a4_row1_col0, #T_235a4_row2_col0, #T_235a4_row3_col0, #T_235a4_row4_col0 {\n",
              "  background-color: #8900f2;\n",
              "  font-weight: bold;\n",
              "}\n",
              "#T_235a4_row1_col1, #T_235a4_row1_col2, #T_235a4_row1_col3, #T_235a4_row2_col1, #T_235a4_row2_col2, #T_235a4_row2_col3, #T_235a4_row3_col1, #T_235a4_row3_col2, #T_235a4_row3_col3 {\n",
              "  color: green;\n",
              "}\n",
              "#T_235a4_row4_col1, #T_235a4_row4_col3 {\n",
              "  color: white;\n",
              "  background-color: orange;\n",
              "  color: #961c00;\n",
              "}\n",
              "#T_235a4_row4_col2 {\n",
              "  color: white;\n",
              "  background-color: orange;\n",
              "  color: white;\n",
              "  background-color: red;\n",
              "  color: #961c00;\n",
              "}\n",
              "</style>\n",
              "<table id=\"T_235a4_\" class=\"dataframe\">\n",
              "  <thead>\n",
              "    <tr>\n",
              "      <th class=\"blank level0\" >&nbsp;</th>\n",
              "      <th class=\"col_heading level0 col0\" >Method</th>\n",
              "      <th class=\"col_heading level0 col1\" >MAE</th>\n",
              "      <th class=\"col_heading level0 col2\" >WMAPE</th>\n",
              "      <th class=\"col_heading level0 col3\" >Aggregated WMAPE</th>\n",
              "    </tr>\n",
              "  </thead>\n",
              "  <tbody>\n",
              "    <tr>\n",
              "      <th id=\"T_235a4_level0_row0\" class=\"row_heading level0 row0\" >0</th>\n",
              "      <td id=\"T_235a4_row0_col0\" class=\"data row0 col0\" >naive_predictions</td>\n",
              "      <td id=\"T_235a4_row0_col1\" class=\"data row0 col1\" >40.568352</td>\n",
              "      <td id=\"T_235a4_row0_col2\" class=\"data row0 col2\" >84.304947</td>\n",
              "      <td id=\"T_235a4_row0_col3\" class=\"data row0 col3\" >62.370169</td>\n",
              "    </tr>\n",
              "    <tr>\n",
              "      <th id=\"T_235a4_level0_row1\" class=\"row_heading level0 row1\" >1</th>\n",
              "      <td id=\"T_235a4_row1_col0\" class=\"data row1 col0\" >perisitence_1</td>\n",
              "      <td id=\"T_235a4_row1_col1\" class=\"data row1 col1\" >34.615874</td>\n",
              "      <td id=\"T_235a4_row1_col2\" class=\"data row1 col2\" >71.935126</td>\n",
              "      <td id=\"T_235a4_row1_col3\" class=\"data row1 col3\" >51.168809</td>\n",
              "    </tr>\n",
              "    <tr>\n",
              "      <th id=\"T_235a4_level0_row2\" class=\"row_heading level0 row2\" >2</th>\n",
              "      <td id=\"T_235a4_row2_col0\" class=\"data row2 col0\" >perisitence_3_mean</td>\n",
              "      <td id=\"T_235a4_row2_col1\" class=\"data row2 col1\" >31.739148</td>\n",
              "      <td id=\"T_235a4_row2_col2\" class=\"data row2 col2\" >65.957011</td>\n",
              "      <td id=\"T_235a4_row2_col3\" class=\"data row2 col3\" >49.521603</td>\n",
              "    </tr>\n",
              "    <tr>\n",
              "      <th id=\"T_235a4_level0_row3\" class=\"row_heading level0 row3\" >3</th>\n",
              "      <td id=\"T_235a4_row3_col0\" class=\"data row3 col0\" >actuals_output</td>\n",
              "      <td id=\"T_235a4_row3_col1\" class=\"data row3 col1\" >0.000000</td>\n",
              "      <td id=\"T_235a4_row3_col2\" class=\"data row3 col2\" >0.000000</td>\n",
              "      <td id=\"T_235a4_row3_col3\" class=\"data row3 col3\" >0.000000</td>\n",
              "    </tr>\n",
              "    <tr>\n",
              "      <th id=\"T_235a4_level0_row4\" class=\"row_heading level0 row4\" >4</th>\n",
              "      <td id=\"T_235a4_row4_col0\" class=\"data row4 col0\" >TFT_predictions</td>\n",
              "      <td id=\"T_235a4_row4_col1\" class=\"data row4 col1\" >48.121120</td>\n",
              "      <td id=\"T_235a4_row4_col2\" class=\"data row4 col2\" >100.000334</td>\n",
              "      <td id=\"T_235a4_row4_col3\" class=\"data row4 col3\" >99.997282</td>\n",
              "    </tr>\n",
              "  </tbody>\n",
              "</table>\n"
            ],
            "text/plain": [
              "<pandas.io.formats.style.Styler at 0x7f5abbb2e110>"
            ]
          },
          "execution_count": 354,
          "metadata": {},
          "output_type": "execute_result"
        }
      ],
      "source": [
        "cell_hover = {  # for row hover use <tr> instead of <td>\n",
        "    'selector': 'td:hover',\n",
        "    'props': [('background-color', 'white'), ('color', 'black')]\n",
        "}\n",
        "index_names = {\n",
        "    'selector': '.index_name',\n",
        "    'props': 'font-style: italic; color: darkgrey; font-weight:normal;'\n",
        "}\n",
        "headers = {\n",
        "    'selector': 'th:not(.index_name)',\n",
        "    'props': 'background-color: #8900f2; color: white;'\n",
        "}\n",
        "\n",
        "def highlight_max(s, props=''):\n",
        "    return np.where(s == np.nanmax(s.values), props, '')\n",
        "\n",
        "def highlight_compare(s, props=''):\n",
        "    return np.where(s > s[0], props, '')\n",
        "\n",
        "def highlight_compare2(s, props=''):\n",
        "    return np.where(s < s[0], props, '')\n",
        "\n",
        "\n",
        "s = ref_error.style\n",
        "s = s.set_table_styles([cell_hover, index_names, headers])\n",
        "\n",
        "# DataFrame maximum in red, and column maximums in orange.\n",
        "\n",
        "s.apply(highlight_max, props='color:white;background-color:orange;', subset=pd.IndexSlice[:, ['MAE', 'WMAPE', 'Aggregated WMAPE']], axis=0)\\\n",
        "  .apply(highlight_max, props='color:white;background-color:red', subset=pd.IndexSlice[:, ['MAE', 'WMAPE', 'Aggregated WMAPE']], axis=None)\\\n",
        "  .apply(highlight_compare, props='color:#961c00;',subset=pd.IndexSlice[:, ['MAE', 'WMAPE', 'Aggregated WMAPE']], axis=0)\\\n",
        "  .apply(highlight_compare2, props='color:green;',subset=pd.IndexSlice[:, ['MAE', 'WMAPE', 'Aggregated WMAPE']], axis=0)\\\n",
        "  .set_properties(**{'background-color': '#8900f2', 'font-weight':'bold'}, subset=pd.IndexSlice[:, ['Method']])\n",
        "\n",
        "print('DataFrame maximum in red, and column maximums in orange. If metric is larger than Naive i.e.[0] for that metric, text is dark red. Otherwise, it is green.')\n",
        "print('\\033[93m Summary of errors:')\n",
        "s"
      ]
    }
  ],
  "metadata": {
    "colab": {
      "collapsed_sections": [],
      "name": "Multi-Variate Time Series Forecasting.ipynb",
      "provenance": []
    },
    "kernelspec": {
      "display_name": "Python 3",
      "name": "python3"
    },
    "language_info": {
      "name": "python"
    }
  },
  "nbformat": 4,
  "nbformat_minor": 0
}
