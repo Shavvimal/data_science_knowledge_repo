{
  "cells": [
    {
      "cell_type": "code",
      "execution_count": 1,
      "metadata": {
        "id": "JKBCREpfWdUc"
      },
      "outputs": [],
      "source": [
        "import os\n",
        "from PIL import Image\n",
        "import os.path, sys"
      ]
    },
    {
      "cell_type": "markdown",
      "metadata": {},
      "source": []
    },
    {
      "cell_type": "code",
      "execution_count": 2,
      "metadata": {
        "id": "JUbLnsmVjGiK"
      },
      "outputs": [],
      "source": [
        "# \"image_output\" -> Directory name\n",
        "image_output = \"./drive/MyDrive/X-Ray/OK_images_jpeg\"\n",
        "\n",
        "#To automate for n number of .tif files\n",
        "for root, dirs, files in os.walk(\"./drive/MyDrive/X-Ray/OK_images\"):\n",
        "    for j in files :\n",
        "        #if .tif files then start converting to .jpg images\n",
        "        if j.split(\".\")[-1] == \"tif\":\n",
        "            #for a single .tif file, it has many pages. Hence, iterating all the pages as frames\n",
        "            count = 0\n",
        "            outfile = \"\".join(j.split(\".\")[0])\n",
        "            im = Image.open(root + \"/\" + j)\n",
        "            while True:\n",
        "                try:   \n",
        "                    im.seek(count)\n",
        "                    out = im.convert(\"RGB\")\n",
        "                    out.save(image_output + \"/\" + outfile + \"_{}.jpeg\".format(count), \"JPEG\", quality=100)\n",
        "                except EOFError:\n",
        "                    break\n",
        "                count += 1"
      ]
    },
    {
      "cell_type": "code",
      "execution_count": 6,
      "metadata": {
        "colab": {
          "base_uri": "https://localhost:8080/"
        },
        "id": "eiglnur-des6",
        "outputId": "f06b4b72-9009-40fe-c72d-f64a0ac20a08"
      },
      "outputs": [
        {
          "name": "stdout",
          "output_type": "stream",
          "text": [
            "557\n"
          ]
        }
      ],
      "source": [
        "! ls ./drive/MyDrive/X-Ray/OK_images_jpeg/ | wc -l"
      ]
    },
    {
      "cell_type": "code",
      "execution_count": 7,
      "metadata": {
        "id": "HEueqXvVj1n1"
      },
      "outputs": [],
      "source": [
        "path = './drive/MyDrive/X-Ray/OK_images_jpeg'\n",
        "dirs = os.listdir(path)\n",
        "newpath = './drive/MyDrive/X-Ray/OK_images_jpeg_cropped/'\n",
        "os.mkdir(newpath)\n",
        "new_width, new_height = 3450, 8250\n",
        "\n",
        "def crop():\n",
        "    for item in dirs:\n",
        "        fullpath = os.path.join(path,item)        \n",
        "        if os.path.isfile(fullpath):\n",
        "            im = Image.open(fullpath)\n",
        "            width, height = im.size  \n",
        "            if width > new_width and height > new_height:\n",
        "                left = (width - new_width)/2\n",
        "                top = (height - new_height)/2\n",
        "                right = (width + new_width)/2\n",
        "                bottom = (height + new_height)/2\n",
        "                imCrop = im.crop((left, top, right, bottom))\n",
        "                imCrop.save(newpath+'cropped_' + item , \"JPEG\", quality=100)\n",
        "\n",
        "crop()"
      ]
    },
    {
      "cell_type": "code",
      "execution_count": 8,
      "metadata": {
        "colab": {
          "base_uri": "https://localhost:8080/"
        },
        "id": "7hQQVVH-egN2",
        "outputId": "a449e411-f97b-4062-fa70-f65b4a14b9ce"
      },
      "outputs": [
        {
          "name": "stdout",
          "output_type": "stream",
          "text": [
            "113\n"
          ]
        }
      ],
      "source": [
        "! ls ./drive/MyDrive/X-Ray/OK_images_jpeg_cropped/ | wc -l"
      ]
    },
    {
      "cell_type": "code",
      "execution_count": 9,
      "metadata": {
        "colab": {
          "base_uri": "https://localhost:8080/"
        },
        "id": "jikYw5C5egKd",
        "outputId": "f9e0e70f-9982-4e71-f265-9e70c379e818"
      },
      "outputs": [
        {
          "name": "stdout",
          "output_type": "stream",
          "text": [
            "66\n"
          ]
        }
      ],
      "source": [
        "! ls ./drive/MyDrive/X-Ray/bodyply_cropped/ | wc -l"
      ]
    },
    {
      "cell_type": "code",
      "execution_count": null,
      "metadata": {
        "id": "Pv-_qR8QWTZ9"
      },
      "outputs": [],
      "source": [
        "from PIL import ImageOps\n",
        "\n",
        "path = './jpegs_cropped/X-Ray/nondefect_cropped/'\n",
        "dirs = os.listdir(path)\n",
        "newpath = './jpegs_cropped/X-Ray/nondefect_cropped_grayscale2/'\n",
        "os.mkdir(newpath)\n",
        "\n",
        "def jpeg_crop_and_grayscape():\n",
        "    for item in dirs:\n",
        "        fullpath = os.path.join(path,item)        \n",
        "        if os.path.isfile(fullpath):\n",
        "            im = Image.open(fullpath)\n",
        "            im = ImageOps.grayscale(im)\n",
        "            im.save(newpath+'grayscale_' + item , \"JPEG\", quality=100)\n",
        "\n",
        "grayscale()"
      ]
    },
    {
      "cell_type": "code",
      "execution_count": 2,
      "metadata": {},
      "outputs": [],
      "source": [
        "from PIL import Image, ImageEnhance\n",
        "import random \n",
        "\n",
        "path = './jpegs_cropped/X-Ray/bodyply_cropped_grayscale'\n",
        "dirs = os.listdir(path)\n",
        "newpath = './jpegs_cropped/X-Ray/bodyply_cropped_grayscale_randomised_brightness_contrast/'\n",
        "os.mkdir(newpath)\n",
        "\n",
        "def randomisation_contrast_brightness():\n",
        "    for item in dirs:\n",
        "        fullpath = os.path.join(path,item)        \n",
        "        if os.path.isfile(fullpath):\n",
        "            im = Image.open(fullpath)\n",
        "            enhancer_brightness = ImageEnhance.Brightness(im)\n",
        "            factor_brightness = random.randrange(5, 22, 1)/10\n",
        "            im_output_1 = enhancer_brightness.enhance(factor_brightness)\n",
        "\n",
        "            enhancer_contrast = ImageEnhance.Contrast(im_output_1)\n",
        "            factor_contrast = random.randrange(5, 22, 1)/10\n",
        "            im_output_2 = enhancer_contrast.enhance(factor_contrast)\n",
        "\n",
        "            im_output_2.save(newpath+f'brightfact_{factor_brightness}_contrastfact_{factor_contrast}_'+item, \"JPEG\", quality=100)\n",
        "\n",
        "randomisation_contrast_brightness()"
      ]
    },
    {
      "cell_type": "code",
      "execution_count": null,
      "metadata": {},
      "outputs": [],
      "source": [
        "from PIL import Image, ImageEnhance\n",
        "import random \n",
        "\n",
        "path = './Data Drive 2/OK Images/OK_images'\n",
        "dirs = os.listdir(path)\n",
        "newpath = './x_ray_non_cropped/OK_images_randomisedBC2/'\n",
        "os.mkdir(newpath)\n",
        "\n",
        "def randomisation_contrast_brightness():\n",
        "    for item in dirs:\n",
        "        fullpath = os.path.join(path,item)        \n",
        "        if os.path.isfile(fullpath):\n",
        "            im = Image.open(fullpath)\n",
        "            enhancer_brightness = ImageEnhance.Brightness(im)\n",
        "            factor_brightness = random.randrange(5, 22, 1)/10\n",
        "            im_output_1 = enhancer_brightness.enhance(factor_brightness)\n",
        "\n",
        "            enhancer_contrast = ImageEnhance.Contrast(im_output_1)\n",
        "            factor_contrast = random.randrange(5, 22, 1)/10\n",
        "            im_output_2 = enhancer_contrast.enhance(factor_contrast)\n",
        "\n",
        "            im_output_2.save(newpath+f'brightfact_{factor_brightness}_contrastfact_{factor_contrast}_'+item, \"JPEG\", quality=100)\n",
        "\n",
        "randomisation_contrast_brightness()"
      ]
    }
  ],
  "metadata": {
    "accelerator": "GPU",
    "colab": {
      "collapsed_sections": [],
      "name": "Image_filetype_converter.ipynb",
      "provenance": []
    },
    "kernelspec": {
      "display_name": "Python 3",
      "name": "python3"
    },
    "language_info": {
      "codemirror_mode": {
        "name": "ipython",
        "version": 3
      },
      "file_extension": ".py",
      "mimetype": "text/x-python",
      "name": "python",
      "nbconvert_exporter": "python",
      "pygments_lexer": "ipython3",
      "version": "3.8.12"
    }
  },
  "nbformat": 4,
  "nbformat_minor": 0
}
