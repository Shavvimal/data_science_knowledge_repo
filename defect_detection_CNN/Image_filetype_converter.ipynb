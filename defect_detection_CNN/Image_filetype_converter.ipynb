{
  "nbformat": 4,
  "nbformat_minor": 0,
  "metadata": {
    "colab": {
      "name": "Image_filetype_converter.ipynb",
      "provenance": [],
      "collapsed_sections": []
    },
    "kernelspec": {
      "name": "python3",
      "display_name": "Python 3"
    },
    "language_info": {
      "name": "python"
    },
    "accelerator": "GPU"
  },
  "cells": [
    {
      "cell_type": "code",
      "metadata": {
        "id": "JKBCREpfWdUc"
      },
      "source": [
        "import os\n",
        "from PIL import Image\n",
        "import os.path, sys\n",
        "import os"
      ],
      "execution_count": null,
      "outputs": []
    },
    {
      "cell_type": "code",
      "source": [
        "! ls ./drive/MyDrive/X-Ray/"
      ],
      "metadata": {
        "colab": {
          "base_uri": "https://localhost:8080/"
        },
        "id": "Tcx8ks1tnUhL",
        "outputId": "370f9f9f-d515-4076-9da6-ebca9492ebd7"
      },
      "execution_count": null,
      "outputs": [
        {
          "output_type": "stream",
          "name": "stdout",
          "text": [
            "Bp_stetch_jpeg\tOK_Images\n"
          ]
        }
      ]
    },
    {
      "cell_type": "code",
      "source": [
        "! mkdir ./drive/MyDrive/X-Ray/OK_Images_jpeg"
      ],
      "metadata": {
        "id": "g6AAbrhasaqX"
      },
      "execution_count": null,
      "outputs": []
    },
    {
      "cell_type": "code",
      "metadata": {
        "id": "JUbLnsmVjGiK"
      },
      "source": [
        "# \"image_output\" -> Directory name\n",
        "image_output = \"./drive/MyDrive/X-Ray/OK_Images_jpeg\"\n",
        "\n",
        "#To automate for n number of .tif files\n",
        "for root, dirs, files in os.walk(\"./drive/MyDrive/X-Ray/OK_Images\"):\n",
        "    for j in files :\n",
        "        #if .tif files then start converting to .jpg images\n",
        "        if j.split(\".\")[-1] == \"tif\":\n",
        "            #for a single .tif file, it has many pages. Hence, iterating all the pages as frames\n",
        "            count = 0\n",
        "            outfile = \"\".join(j.split(\".\")[0])\n",
        "            im = Image.open(root + \"/\" + j)\n",
        "            while True:\n",
        "                try:   \n",
        "                    im.seek(count)\n",
        "                    out = im.convert(\"RGB\")\n",
        "                    out.save(image_output + \"/\" + outfile + \"_{}.jpeg\".format(count), \"JPEG\", quality=100)\n",
        "                except EOFError:\n",
        "                    break\n",
        "                count += 1"
      ],
      "execution_count": null,
      "outputs": []
    },
    {
      "cell_type": "code",
      "metadata": {
        "colab": {
          "base_uri": "https://localhost:8080/"
        },
        "id": "eiglnur-des6",
        "outputId": "3955554c-237e-4b04-e8e1-27b8e17b6a9e"
      },
      "source": [
        "! ls ./drive/MyDrive/X-Ray/OK_Images_jpeg/ | wc -l"
      ],
      "execution_count": null,
      "outputs": [
        {
          "output_type": "stream",
          "name": "stdout",
          "text": [
            "557\n"
          ]
        }
      ]
    },
    {
      "cell_type": "code",
      "metadata": {
        "id": "HEueqXvVj1n1"
      },
      "source": [
        "path = './drive/MyDrive/X-Ray/Bp_stetch_jpeg'\n",
        "dirs = os.listdir(path)\n",
        "newpath = './drive/MyDrive/X-Ray/Bp_stetch_jpeg_cropped/'\n",
        "os.mkdir(newpath)\n",
        "new_width, new_height = 3450, 8250\n",
        "\n",
        "def crop():\n",
        "    for item in dirs:\n",
        "        fullpath = os.path.join(path,item)        \n",
        "        if os.path.isfile(fullpath):\n",
        "            im = Image.open(fullpath)\n",
        "            width, height = im.size  \n",
        "            if width > new_width and height > new_height:\n",
        "                left = (width - new_width)/2\n",
        "                top = (height - new_height)/2\n",
        "                right = (width + new_width)/2\n",
        "                bottom = (height + new_height)/2\n",
        "                imCrop = im.crop((left, top, right, bottom))\n",
        "                imCrop.save(newpath+'cropped_' + item , \"JPEG\", quality=100)\n",
        "\n",
        "crop()"
      ],
      "execution_count": null,
      "outputs": []
    },
    {
      "cell_type": "code",
      "metadata": {
        "colab": {
          "base_uri": "https://localhost:8080/"
        },
        "id": "7hQQVVH-egN2",
        "outputId": "d36a48cc-b7b0-486b-be56-8f1b189b86c2"
      },
      "source": [
        "! ls ./drive/MyDrive/X-Ray/Bp_stetch_jpeg_cropped/ | wc -l"
      ],
      "execution_count": null,
      "outputs": [
        {
          "output_type": "stream",
          "name": "stdout",
          "text": [
            "123\n"
          ]
        }
      ]
    },
    {
      "cell_type": "markdown",
      "source": [
        "123/223 remain "
      ],
      "metadata": {
        "id": "wNbKPh4CvfZs"
      }
    },
    {
      "cell_type": "code",
      "metadata": {
        "colab": {
          "base_uri": "https://localhost:8080/"
        },
        "id": "jikYw5C5egKd",
        "outputId": "f9e0e70f-9982-4e71-f265-9e70c379e818"
      },
      "source": [
        "! ls ./drive/MyDrive/X-Ray/bodyply_cropped/ | wc -l"
      ],
      "execution_count": null,
      "outputs": [
        {
          "output_type": "stream",
          "name": "stdout",
          "text": [
            "66\n"
          ]
        }
      ]
    },
    {
      "cell_type": "code",
      "metadata": {
        "id": "Pv-_qR8QWTZ9"
      },
      "source": [
        "from PIL import ImageOps\n",
        "\n",
        "path = './jpegs_cropped/X-Ray/nondefect_cropped/'\n",
        "dirs = os.listdir(path)\n",
        "newpath = './jpegs_cropped/X-Ray/nondefect_cropped_grayscale2/'\n",
        "os.mkdir(newpath)\n",
        "\n",
        "def jpeg_crop_and_grayscape():\n",
        "    for item in dirs:\n",
        "        fullpath = os.path.join(path,item)        \n",
        "        if os.path.isfile(fullpath):\n",
        "            im = Image.open(fullpath)\n",
        "            im = ImageOps.grayscale(im)\n",
        "            im.save(newpath+'grayscale_' + item , \"JPEG\", quality=100)\n",
        "\n",
        "grayscale()"
      ],
      "execution_count": null,
      "outputs": []
    },
    {
      "cell_type": "code",
      "source": [
        "\n",
        "\n",
        "dest_file = './2021-02-01 08-51-42 - recRTBJBHELD9AK1 - 8520236666_Az0.00_Undef.tif'\n",
        "\n",
        "if dest_file.split(\".\")[-1] == \"tif\":\n",
        "            #for a single .tif file, it has many pages. Hence, iterating all the pages as frames\n",
        "            count = 0\n",
        "            outfile = \"\".join(dest_file.split(\".\")[0])\n",
        "            im = Image.open(dest_file)\n",
        "            while True:\n",
        "                try:   \n",
        "                    im.seek(count)\n",
        "                    out = im.convert(\"RGB\")\n",
        "                    out.save( \"./\" + outfile + \"_{}.jpeg\".format(count), \"JPEG\", quality=100)\n",
        "                except EOFError:\n",
        "                    break\n",
        "                count += 1"
      ],
      "metadata": {
        "id": "JkQSateHbnK6"
      },
      "execution_count": null,
      "outputs": []
    },
    {
      "cell_type": "code",
      "source": [
        ""
      ],
      "metadata": {
        "id": "AAXhso10b15H"
      },
      "execution_count": null,
      "outputs": []
    }
  ]
}