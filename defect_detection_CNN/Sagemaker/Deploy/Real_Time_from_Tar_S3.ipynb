{
 "cells": [
  {
   "cell_type": "code",
   "execution_count": 11,
   "metadata": {},
   "outputs": [
    {
     "name": "stdout",
     "output_type": "stream",
     "text": [
      "Python 3.7.10\n"
     ]
    }
   ],
   "source": [
    "!python -V"
   ]
  },
  {
   "cell_type": "code",
   "execution_count": 20,
   "metadata": {},
   "outputs": [],
   "source": [
    "from sagemaker.tensorflow import TensorFlowModel\n",
    "from sagemaker import get_execution_role\n",
    "import time"
   ]
  },
  {
   "cell_type": "code",
   "execution_count": 21,
   "metadata": {},
   "outputs": [],
   "source": [
    "role = get_execution_role()"
   ]
  },
  {
   "cell_type": "code",
   "execution_count": 22,
   "metadata": {},
   "outputs": [],
   "source": [
    "model_name = 'xray-defect-model-resnet50-'+time.strftime(\"%Y-%m-%d\", time.gmtime())\n",
    "sagemaker_model = TensorFlowModel(model_data='s3://london-innovation-hub/xray/models/xray_model_v1/xray_model_v1.tar.gz',\n",
    "                                 role=role,\n",
    "                                 name=model_name,\n",
    "                                 entry_point='entry_point.py',\n",
    "                                 framework_version='2.5')"
   ]
  },
  {
   "cell_type": "code",
   "execution_count": 23,
   "metadata": {},
   "outputs": [],
   "source": [
    "! touch entry_point.py"
   ]
  },
  {
   "cell_type": "code",
   "execution_count": 24,
   "metadata": {},
   "outputs": [
    {
     "name": "stderr",
     "output_type": "stream",
     "text": [
      "update_endpoint is a no-op in sagemaker>=2.\n",
      "See: https://sagemaker.readthedocs.io/en/stable/v2.html for details.\n",
      "Using already existing model: xray-defect-model-resnet50-2022-03-30\n"
     ]
    },
    {
     "ename": "ClientError",
     "evalue": "An error occurred (ValidationException) when calling the CreateEndpoint operation: Cannot create already existing endpoint \"arn:aws:sagemaker:ap-south-1:691959165503:endpoint/xray-defect-endpoint\".",
     "output_type": "error",
     "traceback": [
      "\u001b[0;31m---------------------------------------------------------------------------\u001b[0m",
      "\u001b[0;31mClientError\u001b[0m                               Traceback (most recent call last)",
      "\u001b[0;32m<ipython-input-24-867abdb7804b>\u001b[0m in \u001b[0;36m<module>\u001b[0;34m\u001b[0m\n\u001b[1;32m      2\u001b[0m predictor = sagemaker_model.deploy(initial_instance_count=1, \n\u001b[1;32m      3\u001b[0m                                    \u001b[0mendpoint_name\u001b[0m\u001b[0;34m=\u001b[0m \u001b[0mendpoint_name\u001b[0m\u001b[0;34m,\u001b[0m\u001b[0;34m\u001b[0m\u001b[0;34m\u001b[0m\u001b[0m\n\u001b[0;32m----> 4\u001b[0;31m                                    instance_type='ml.m4.xlarge')\n\u001b[0m",
      "\u001b[0;32m/opt/conda/lib/python3.7/site-packages/sagemaker/tensorflow/model.py\u001b[0m in \u001b[0;36mdeploy\u001b[0;34m(self, initial_instance_count, instance_type, serializer, deserializer, accelerator_type, endpoint_name, tags, kms_key, wait, data_capture_config, update_endpoint)\u001b[0m\n\u001b[1;32m    288\u001b[0m             \u001b[0mwait\u001b[0m\u001b[0;34m=\u001b[0m\u001b[0mwait\u001b[0m\u001b[0;34m,\u001b[0m\u001b[0;34m\u001b[0m\u001b[0;34m\u001b[0m\u001b[0m\n\u001b[1;32m    289\u001b[0m             \u001b[0mdata_capture_config\u001b[0m\u001b[0;34m=\u001b[0m\u001b[0mdata_capture_config\u001b[0m\u001b[0;34m,\u001b[0m\u001b[0;34m\u001b[0m\u001b[0;34m\u001b[0m\u001b[0m\n\u001b[0;32m--> 290\u001b[0;31m             \u001b[0mupdate_endpoint\u001b[0m\u001b[0;34m=\u001b[0m\u001b[0mupdate_endpoint\u001b[0m\u001b[0;34m,\u001b[0m\u001b[0;34m\u001b[0m\u001b[0;34m\u001b[0m\u001b[0m\n\u001b[0m\u001b[1;32m    291\u001b[0m         )\n\u001b[1;32m    292\u001b[0m \u001b[0;34m\u001b[0m\u001b[0m\n",
      "\u001b[0;32m/opt/conda/lib/python3.7/site-packages/sagemaker/model.py\u001b[0m in \u001b[0;36mdeploy\u001b[0;34m(self, initial_instance_count, instance_type, serializer, deserializer, accelerator_type, endpoint_name, tags, kms_key, wait, data_capture_config, **kwargs)\u001b[0m\n\u001b[1;32m    787\u001b[0m             \u001b[0mkms_key\u001b[0m\u001b[0;34m=\u001b[0m\u001b[0mkms_key\u001b[0m\u001b[0;34m,\u001b[0m\u001b[0;34m\u001b[0m\u001b[0;34m\u001b[0m\u001b[0m\n\u001b[1;32m    788\u001b[0m             \u001b[0mwait\u001b[0m\u001b[0;34m=\u001b[0m\u001b[0mwait\u001b[0m\u001b[0;34m,\u001b[0m\u001b[0;34m\u001b[0m\u001b[0;34m\u001b[0m\u001b[0m\n\u001b[0;32m--> 789\u001b[0;31m             \u001b[0mdata_capture_config_dict\u001b[0m\u001b[0;34m=\u001b[0m\u001b[0mdata_capture_config_dict\u001b[0m\u001b[0;34m,\u001b[0m\u001b[0;34m\u001b[0m\u001b[0;34m\u001b[0m\u001b[0m\n\u001b[0m\u001b[1;32m    790\u001b[0m         )\n\u001b[1;32m    791\u001b[0m \u001b[0;34m\u001b[0m\u001b[0m\n",
      "\u001b[0;32m/opt/conda/lib/python3.7/site-packages/sagemaker/session.py\u001b[0m in \u001b[0;36mendpoint_from_production_variants\u001b[0;34m(self, name, production_variants, tags, kms_key, wait, data_capture_config_dict)\u001b[0m\n\u001b[1;32m   3570\u001b[0m \u001b[0;34m\u001b[0m\u001b[0m\n\u001b[1;32m   3571\u001b[0m             \u001b[0mself\u001b[0m\u001b[0;34m.\u001b[0m\u001b[0msagemaker_client\u001b[0m\u001b[0;34m.\u001b[0m\u001b[0mcreate_endpoint_config\u001b[0m\u001b[0;34m(\u001b[0m\u001b[0;34m**\u001b[0m\u001b[0mconfig_options\u001b[0m\u001b[0;34m)\u001b[0m\u001b[0;34m\u001b[0m\u001b[0;34m\u001b[0m\u001b[0m\n\u001b[0;32m-> 3572\u001b[0;31m         \u001b[0;32mreturn\u001b[0m \u001b[0mself\u001b[0m\u001b[0;34m.\u001b[0m\u001b[0mcreate_endpoint\u001b[0m\u001b[0;34m(\u001b[0m\u001b[0mendpoint_name\u001b[0m\u001b[0;34m=\u001b[0m\u001b[0mname\u001b[0m\u001b[0;34m,\u001b[0m \u001b[0mconfig_name\u001b[0m\u001b[0;34m=\u001b[0m\u001b[0mname\u001b[0m\u001b[0;34m,\u001b[0m \u001b[0mtags\u001b[0m\u001b[0;34m=\u001b[0m\u001b[0mtags\u001b[0m\u001b[0;34m,\u001b[0m \u001b[0mwait\u001b[0m\u001b[0;34m=\u001b[0m\u001b[0mwait\u001b[0m\u001b[0;34m)\u001b[0m\u001b[0;34m\u001b[0m\u001b[0;34m\u001b[0m\u001b[0m\n\u001b[0m\u001b[1;32m   3573\u001b[0m \u001b[0;34m\u001b[0m\u001b[0m\n\u001b[1;32m   3574\u001b[0m     \u001b[0;32mdef\u001b[0m \u001b[0mexpand_role\u001b[0m\u001b[0;34m(\u001b[0m\u001b[0mself\u001b[0m\u001b[0;34m,\u001b[0m \u001b[0mrole\u001b[0m\u001b[0;34m)\u001b[0m\u001b[0;34m:\u001b[0m\u001b[0;34m\u001b[0m\u001b[0;34m\u001b[0m\u001b[0m\n",
      "\u001b[0;32m/opt/conda/lib/python3.7/site-packages/sagemaker/session.py\u001b[0m in \u001b[0;36mcreate_endpoint\u001b[0;34m(self, endpoint_name, config_name, tags, wait)\u001b[0m\n\u001b[1;32m   3070\u001b[0m \u001b[0;34m\u001b[0m\u001b[0m\n\u001b[1;32m   3071\u001b[0m         self.sagemaker_client.create_endpoint(\n\u001b[0;32m-> 3072\u001b[0;31m             \u001b[0mEndpointName\u001b[0m\u001b[0;34m=\u001b[0m\u001b[0mendpoint_name\u001b[0m\u001b[0;34m,\u001b[0m \u001b[0mEndpointConfigName\u001b[0m\u001b[0;34m=\u001b[0m\u001b[0mconfig_name\u001b[0m\u001b[0;34m,\u001b[0m \u001b[0mTags\u001b[0m\u001b[0;34m=\u001b[0m\u001b[0mtags\u001b[0m\u001b[0;34m\u001b[0m\u001b[0;34m\u001b[0m\u001b[0m\n\u001b[0m\u001b[1;32m   3073\u001b[0m         )\n\u001b[1;32m   3074\u001b[0m         \u001b[0;32mif\u001b[0m \u001b[0mwait\u001b[0m\u001b[0;34m:\u001b[0m\u001b[0;34m\u001b[0m\u001b[0;34m\u001b[0m\u001b[0m\n",
      "\u001b[0;32m/opt/conda/lib/python3.7/site-packages/botocore/client.py\u001b[0m in \u001b[0;36m_api_call\u001b[0;34m(self, *args, **kwargs)\u001b[0m\n\u001b[1;32m    389\u001b[0m                     \"%s() only accepts keyword arguments.\" % py_operation_name)\n\u001b[1;32m    390\u001b[0m             \u001b[0;31m# The \"self\" in this scope is referring to the BaseClient.\u001b[0m\u001b[0;34m\u001b[0m\u001b[0;34m\u001b[0m\u001b[0;34m\u001b[0m\u001b[0m\n\u001b[0;32m--> 391\u001b[0;31m             \u001b[0;32mreturn\u001b[0m \u001b[0mself\u001b[0m\u001b[0;34m.\u001b[0m\u001b[0m_make_api_call\u001b[0m\u001b[0;34m(\u001b[0m\u001b[0moperation_name\u001b[0m\u001b[0;34m,\u001b[0m \u001b[0mkwargs\u001b[0m\u001b[0;34m)\u001b[0m\u001b[0;34m\u001b[0m\u001b[0;34m\u001b[0m\u001b[0m\n\u001b[0m\u001b[1;32m    392\u001b[0m \u001b[0;34m\u001b[0m\u001b[0m\n\u001b[1;32m    393\u001b[0m         \u001b[0m_api_call\u001b[0m\u001b[0;34m.\u001b[0m\u001b[0m__name__\u001b[0m \u001b[0;34m=\u001b[0m \u001b[0mstr\u001b[0m\u001b[0;34m(\u001b[0m\u001b[0mpy_operation_name\u001b[0m\u001b[0;34m)\u001b[0m\u001b[0;34m\u001b[0m\u001b[0;34m\u001b[0m\u001b[0m\n",
      "\u001b[0;32m/opt/conda/lib/python3.7/site-packages/botocore/client.py\u001b[0m in \u001b[0;36m_make_api_call\u001b[0;34m(self, operation_name, api_params)\u001b[0m\n\u001b[1;32m    717\u001b[0m             \u001b[0merror_code\u001b[0m \u001b[0;34m=\u001b[0m \u001b[0mparsed_response\u001b[0m\u001b[0;34m.\u001b[0m\u001b[0mget\u001b[0m\u001b[0;34m(\u001b[0m\u001b[0;34m\"Error\"\u001b[0m\u001b[0;34m,\u001b[0m \u001b[0;34m{\u001b[0m\u001b[0;34m}\u001b[0m\u001b[0;34m)\u001b[0m\u001b[0;34m.\u001b[0m\u001b[0mget\u001b[0m\u001b[0;34m(\u001b[0m\u001b[0;34m\"Code\"\u001b[0m\u001b[0;34m)\u001b[0m\u001b[0;34m\u001b[0m\u001b[0;34m\u001b[0m\u001b[0m\n\u001b[1;32m    718\u001b[0m             \u001b[0merror_class\u001b[0m \u001b[0;34m=\u001b[0m \u001b[0mself\u001b[0m\u001b[0;34m.\u001b[0m\u001b[0mexceptions\u001b[0m\u001b[0;34m.\u001b[0m\u001b[0mfrom_code\u001b[0m\u001b[0;34m(\u001b[0m\u001b[0merror_code\u001b[0m\u001b[0;34m)\u001b[0m\u001b[0;34m\u001b[0m\u001b[0;34m\u001b[0m\u001b[0m\n\u001b[0;32m--> 719\u001b[0;31m             \u001b[0;32mraise\u001b[0m \u001b[0merror_class\u001b[0m\u001b[0;34m(\u001b[0m\u001b[0mparsed_response\u001b[0m\u001b[0;34m,\u001b[0m \u001b[0moperation_name\u001b[0m\u001b[0;34m)\u001b[0m\u001b[0;34m\u001b[0m\u001b[0;34m\u001b[0m\u001b[0m\n\u001b[0m\u001b[1;32m    720\u001b[0m         \u001b[0;32melse\u001b[0m\u001b[0;34m:\u001b[0m\u001b[0;34m\u001b[0m\u001b[0;34m\u001b[0m\u001b[0m\n\u001b[1;32m    721\u001b[0m             \u001b[0;32mreturn\u001b[0m \u001b[0mparsed_response\u001b[0m\u001b[0;34m\u001b[0m\u001b[0;34m\u001b[0m\u001b[0m\n",
      "\u001b[0;31mClientError\u001b[0m: An error occurred (ValidationException) when calling the CreateEndpoint operation: Cannot create already existing endpoint \"arn:aws:sagemaker:ap-south-1:691959165503:endpoint/xray-defect-endpoint\"."
     ]
    }
   ],
   "source": [
    "endpoint_name = 'xray-defect-endpoint'\n",
    "predictor = sagemaker_model.deploy(initial_instance_count=1, \n",
    "                                   endpoint_name= endpoint_name,\n",
    "                                   instance_type='ml.m4.xlarge')"
   ]
  },
  {
   "cell_type": "code",
   "execution_count": 8,
   "metadata": {},
   "outputs": [
    {
     "ename": "FileNotFoundError",
     "evalue": "[Errno 2] No such file or directory: 'data/2019-07-20 19-33-08 - recRTBJBHELD9AK1 - 8640159619_Az45_0.jpeg'",
     "output_type": "error",
     "traceback": [
      "\u001b[0;31m---------------------------------------------------------------------------\u001b[0m",
      "\u001b[0;31mFileNotFoundError\u001b[0m                         Traceback (most recent call last)",
      "\u001b[0;32m<ipython-input-8-5c863621a0bf>\u001b[0m in \u001b[0;36m<module>\u001b[0;34m\u001b[0m\n\u001b[1;32m      1\u001b[0m \u001b[0;32mimport\u001b[0m \u001b[0mPIL\u001b[0m\u001b[0;34m.\u001b[0m\u001b[0mImage\u001b[0m\u001b[0;34m\u001b[0m\u001b[0;34m\u001b[0m\u001b[0m\n\u001b[1;32m      2\u001b[0m \u001b[0;32mimport\u001b[0m \u001b[0mnumpy\u001b[0m \u001b[0;32mas\u001b[0m \u001b[0mnp\u001b[0m\u001b[0;34m\u001b[0m\u001b[0;34m\u001b[0m\u001b[0m\n\u001b[0;32m----> 3\u001b[0;31m \u001b[0mtest_image\u001b[0m \u001b[0;34m=\u001b[0m \u001b[0mPIL\u001b[0m\u001b[0;34m.\u001b[0m\u001b[0mImage\u001b[0m\u001b[0;34m.\u001b[0m\u001b[0mopen\u001b[0m\u001b[0;34m(\u001b[0m\u001b[0;34m'data/2019-07-20 19-33-08 - recRTBJBHELD9AK1 - 8640159619_Az45_0.jpeg'\u001b[0m\u001b[0;34m)\u001b[0m\u001b[0;34m\u001b[0m\u001b[0;34m\u001b[0m\u001b[0m\n\u001b[0m\u001b[1;32m      4\u001b[0m \u001b[0mpayload\u001b[0m \u001b[0;34m=\u001b[0m \u001b[0mnp\u001b[0m\u001b[0;34m.\u001b[0m\u001b[0marray\u001b[0m\u001b[0;34m(\u001b[0m\u001b[0;34m[\u001b[0m\u001b[0mnp\u001b[0m\u001b[0;34m.\u001b[0m\u001b[0masarray\u001b[0m\u001b[0;34m(\u001b[0m\u001b[0mtest_image\u001b[0m\u001b[0;34m.\u001b[0m\u001b[0mresize\u001b[0m\u001b[0;34m(\u001b[0m\u001b[0;34m(\u001b[0m\u001b[0;36m1024\u001b[0m\u001b[0;34m,\u001b[0m \u001b[0;36m1024\u001b[0m\u001b[0;34m)\u001b[0m\u001b[0;34m)\u001b[0m\u001b[0;34m)\u001b[0m\u001b[0;34m]\u001b[0m\u001b[0;34m)\u001b[0m\u001b[0;34m\u001b[0m\u001b[0;34m\u001b[0m\u001b[0m\n",
      "\u001b[0;32m/opt/conda/lib/python3.7/site-packages/PIL/Image.py\u001b[0m in \u001b[0;36mopen\u001b[0;34m(fp, mode, formats)\u001b[0m\n\u001b[1;32m   2973\u001b[0m \u001b[0;34m\u001b[0m\u001b[0m\n\u001b[1;32m   2974\u001b[0m     \u001b[0;32mif\u001b[0m \u001b[0mfilename\u001b[0m\u001b[0;34m:\u001b[0m\u001b[0;34m\u001b[0m\u001b[0;34m\u001b[0m\u001b[0m\n\u001b[0;32m-> 2975\u001b[0;31m         \u001b[0mfp\u001b[0m \u001b[0;34m=\u001b[0m \u001b[0mbuiltins\u001b[0m\u001b[0;34m.\u001b[0m\u001b[0mopen\u001b[0m\u001b[0;34m(\u001b[0m\u001b[0mfilename\u001b[0m\u001b[0;34m,\u001b[0m \u001b[0;34m\"rb\"\u001b[0m\u001b[0;34m)\u001b[0m\u001b[0;34m\u001b[0m\u001b[0;34m\u001b[0m\u001b[0m\n\u001b[0m\u001b[1;32m   2976\u001b[0m         \u001b[0mexclusive_fp\u001b[0m \u001b[0;34m=\u001b[0m \u001b[0;32mTrue\u001b[0m\u001b[0;34m\u001b[0m\u001b[0;34m\u001b[0m\u001b[0m\n\u001b[1;32m   2977\u001b[0m \u001b[0;34m\u001b[0m\u001b[0m\n",
      "\u001b[0;31mFileNotFoundError\u001b[0m: [Errno 2] No such file or directory: 'data/2019-07-20 19-33-08 - recRTBJBHELD9AK1 - 8640159619_Az45_0.jpeg'"
     ]
    }
   ],
   "source": [
    "import PIL.Image\n",
    "import numpy as np\n",
    "test_image = PIL.Image.open('data/2019-07-20 19-33-08 - recRTBJBHELD9AK1 - 8640159619_Az45_0.jpeg')\n",
    "payload = np.array([np.asarray(test_image.resize((1024, 1024)))])"
   ]
  },
  {
   "cell_type": "code",
   "execution_count": 9,
   "metadata": {},
   "outputs": [
    {
     "ename": "NameError",
     "evalue": "name 'payload' is not defined",
     "output_type": "error",
     "traceback": [
      "\u001b[0;31m---------------------------------------------------------------------------\u001b[0m",
      "\u001b[0;31mNameError\u001b[0m                                 Traceback (most recent call last)",
      "\u001b[0;32m<ipython-input-9-2e708315f0fa>\u001b[0m in \u001b[0;36m<module>\u001b[0;34m\u001b[0m\n\u001b[0;32m----> 1\u001b[0;31m \u001b[0mpayload\u001b[0m\u001b[0;34m.\u001b[0m\u001b[0mshape\u001b[0m\u001b[0;34m\u001b[0m\u001b[0;34m\u001b[0m\u001b[0m\n\u001b[0m",
      "\u001b[0;31mNameError\u001b[0m: name 'payload' is not defined"
     ]
    }
   ],
   "source": [
    "payload.shape"
   ]
  },
  {
   "cell_type": "code",
   "execution_count": 14,
   "metadata": {},
   "outputs": [
    {
     "data": {
      "text/plain": [
       "{'predictions': [[-42.2581749]]}"
      ]
     },
     "execution_count": 14,
     "metadata": {},
     "output_type": "execute_result"
    }
   ],
   "source": [
    "result = predictor.predict(payload)\n",
    "result"
   ]
  },
  {
   "cell_type": "code",
   "execution_count": 12,
   "metadata": {},
   "outputs": [],
   "source": [
    "def test(filename):\n",
    "    test_image = PIL.Image.open('images/'+filename)\n",
    "    payload = np.array([np.asarray(test_image.resize((1024, 1024)))])\n",
    "    return predictor.predict(payload)\n"
   ]
  },
  {
   "cell_type": "code",
   "execution_count": 22,
   "metadata": {},
   "outputs": [],
   "source": [
    "okay = ['OK_Images_jpeg/2021-11-02 12-56-22 - recRTB6R0ELD1AJ1 - 8680493059_Az28_0.jpeg',\n",
    "'OK_Images_jpeg/2021-11-02 17-44-12 - recRTBJBHEMA3AK1 - 8230369253_Az0_0.jpeg',\n",
    "'OK_Images_jpeg/2021-11-06 17-01-07 - recRTBJBHEM32AK1 - 8220387029_Az0_0.jpeg',\n",
    "'OK_Images_jpeg/2021-11-06 23-53-40 - recRTBJBHEM32AK1 - 8220387462_Az0_0.jpeg',\n",
    "'OK_Images_jpeg/2021-11-06 17-21-50 - recRTBJBHEM32AK1 - 8220387024_Az0_0.jpeg',\n",
    "'OK_Images_jpeg/2021-11-06 23-53-40 - recRTBJBHEM32AK1 - 8220387462_Az0_0.jpeg',\n",
    "'OK_Images_jpeg/2021-11-06 18-53-33 - recRTBJBHEM32AK1 - 8220387049_Az0_0.jpeg',\n",
    "'OK_Images_jpeg/2021-11-06 19-23-33 - recRTBJBHEM32AK1 - 8220387054_Az0_0.jpeg',\n",
    "'OK_Images_jpeg/2021-11-02 22-13-23 - recRTBJBHEMA3AK1 - 8230369562_Az0_0.jpeg',\n",
    "'OK_Images_jpeg/2021-11-06 19-02-32 - recRTBJBHEM32AK1 - 8220387046_Az0_0.jpeg']\n",
    "\n",
    "defect = ['Bp_stretch_jpeg/2021-06-06 01-55-32 - recRTBJBHELD9AK1 - 8330335036_Az340_0.jpeg',\n",
    "'Bp_stretch_jpeg/2021-08-02 09-33-32 - recRTB6R0ELD1AJ1 - 8230358838_Az49_0.jpeg',\n",
    "'Bp_stretch_jpeg/2019-08-04 14-18-32 - recRTBJBHELD9AK1 - 8210138837_Az214_0.jpeg',\n",
    "'Bp_stretch_jpeg/2021-04-24 05-42-21 - recRTB6O0EMA3AJ1 - 8130297515_Az26_0.jpeg',\n",
    "'Bp_stretch_jpeg/2021-04-30 00-35-18 - recRTB6R0ERH1AJ1 - 8320187672_Az0_0.jpeg',\n",
    "'Bp_stretch_jpeg/2021-04-15 02-31-54 - recRTBJGHELD1AK1 - 8430301577_Az470_0.jpeg',\n",
    "'Bp_stretch_jpeg/2021-04-05 11-51-43 - recRTB6R0EM33AJ1 - 8620397116_Az208_0.jpeg',\n",
    "'Bp_stretch_jpeg/2021-06-24 04-30-15 - recRTBJBHERH1AKA - 8230305334_Az350_0.jpeg',\n",
    "'Bp_stretch_jpeg/2021-06-09 13-17-33 - recRTB6R0ERH1AJ1 - 8230310066_Az347_0.jpeg',\n",
    "'Bp_stretch_jpeg/2021-07-30 14-51-22 - recRTBJBHELD9AK1 - 8320170736_Az0_0.jpeg']"
   ]
  },
  {
   "cell_type": "code",
   "execution_count": 24,
   "metadata": {},
   "outputs": [
    {
     "name": "stdout",
     "output_type": "stream",
     "text": [
      "file OK_Images_jpeg/2021-11-02 12-56-22 - recRTB6R0ELD1AJ1 - 8680493059_Az28_0.jpeg returns {'predictions': [[-32.9966736]]}\n",
      "file OK_Images_jpeg/2021-11-02 17-44-12 - recRTBJBHEMA3AK1 - 8230369253_Az0_0.jpeg returns {'predictions': [[3.45662594]]}\n",
      "file OK_Images_jpeg/2021-11-06 17-01-07 - recRTBJBHEM32AK1 - 8220387029_Az0_0.jpeg returns {'predictions': [[3.40580964]]}\n",
      "file OK_Images_jpeg/2021-11-06 23-53-40 - recRTBJBHEM32AK1 - 8220387462_Az0_0.jpeg returns {'predictions': [[3.52737832]]}\n",
      "file OK_Images_jpeg/2021-11-06 17-21-50 - recRTBJBHEM32AK1 - 8220387024_Az0_0.jpeg returns {'predictions': [[3.5734694]]}\n",
      "file OK_Images_jpeg/2021-11-06 23-53-40 - recRTBJBHEM32AK1 - 8220387462_Az0_0.jpeg returns {'predictions': [[3.52737832]]}\n",
      "file OK_Images_jpeg/2021-11-06 18-53-33 - recRTBJBHEM32AK1 - 8220387049_Az0_0.jpeg returns {'predictions': [[3.43019152]]}\n",
      "file OK_Images_jpeg/2021-11-06 19-23-33 - recRTBJBHEM32AK1 - 8220387054_Az0_0.jpeg returns {'predictions': [[3.34921241]]}\n",
      "file OK_Images_jpeg/2021-11-02 22-13-23 - recRTBJBHEMA3AK1 - 8230369562_Az0_0.jpeg returns {'predictions': [[3.21715784]]}\n",
      "file OK_Images_jpeg/2021-11-06 19-02-32 - recRTBJBHEM32AK1 - 8220387046_Az0_0.jpeg returns {'predictions': [[3.33251858]]}\n"
     ]
    }
   ],
   "source": [
    "for x in okay:\n",
    "    print(f'file {x} returns {test(x)}')\n",
    "    "
   ]
  },
  {
   "cell_type": "code",
   "execution_count": 25,
   "metadata": {},
   "outputs": [
    {
     "name": "stdout",
     "output_type": "stream",
     "text": [
      "file Bp_stretch_jpeg/2021-06-06 01-55-32 - recRTBJBHELD9AK1 - 8330335036_Az340_0.jpeg returns {'predictions': [[-38.8759956]]}\n",
      "file Bp_stretch_jpeg/2021-08-02 09-33-32 - recRTB6R0ELD1AJ1 - 8230358838_Az49_0.jpeg returns {'predictions': [[-26.949564]]}\n",
      "file Bp_stretch_jpeg/2019-08-04 14-18-32 - recRTBJBHELD9AK1 - 8210138837_Az214_0.jpeg returns {'predictions': [[-38.9407272]]}\n",
      "file Bp_stretch_jpeg/2021-04-24 05-42-21 - recRTB6O0EMA3AJ1 - 8130297515_Az26_0.jpeg returns {'predictions': [[-41.8343468]]}\n",
      "file Bp_stretch_jpeg/2021-04-30 00-35-18 - recRTB6R0ERH1AJ1 - 8320187672_Az0_0.jpeg returns {'predictions': [[-4.41140509]]}\n",
      "file Bp_stretch_jpeg/2021-04-15 02-31-54 - recRTBJGHELD1AK1 - 8430301577_Az470_0.jpeg returns {'predictions': [[-10.3883696]]}\n",
      "file Bp_stretch_jpeg/2021-04-05 11-51-43 - recRTB6R0EM33AJ1 - 8620397116_Az208_0.jpeg returns {'predictions': [[-39.9422188]]}\n",
      "file Bp_stretch_jpeg/2021-06-24 04-30-15 - recRTBJBHERH1AKA - 8230305334_Az350_0.jpeg returns {'predictions': [[-45.1767273]]}\n",
      "file Bp_stretch_jpeg/2021-06-09 13-17-33 - recRTB6R0ERH1AJ1 - 8230310066_Az347_0.jpeg returns {'predictions': [[-29.8247242]]}\n",
      "file Bp_stretch_jpeg/2021-07-30 14-51-22 - recRTBJBHELD9AK1 - 8320170736_Az0_0.jpeg returns {'predictions': [[-3.51435661]]}\n"
     ]
    }
   ],
   "source": [
    "for x in defect:\n",
    "    print(f'file {x} returns {test(x)}')"
   ]
  },
  {
   "cell_type": "code",
   "execution_count": 25,
   "metadata": {},
   "outputs": [],
   "source": [
    "predictor.delete_endpoint()"
   ]
  },
  {
   "cell_type": "code",
   "execution_count": null,
   "metadata": {},
   "outputs": [],
   "source": []
  }
 ],
 "metadata": {
  "instance_type": "ml.t3.medium",
  "kernelspec": {
   "display_name": "Python 3 (Data Science)",
   "language": "python",
   "name": "python3__SAGEMAKER_INTERNAL__arn:aws:sagemaker:ap-south-1:394103062818:image/datascience-1.0"
  },
  "language_info": {
   "codemirror_mode": {
    "name": "ipython",
    "version": 3
   },
   "file_extension": ".py",
   "mimetype": "text/x-python",
   "name": "python",
   "nbconvert_exporter": "python",
   "pygments_lexer": "ipython3",
   "version": "3.7.10"
  }
 },
 "nbformat": 4,
 "nbformat_minor": 4
}
