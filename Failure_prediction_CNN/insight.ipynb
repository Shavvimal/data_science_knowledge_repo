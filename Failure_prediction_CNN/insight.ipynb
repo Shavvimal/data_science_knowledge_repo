{
 "cells": [
  {
   "cell_type": "code",
   "execution_count": 2,
   "metadata": {},
   "outputs": [
    {
     "data": {
      "text/html": [
       "<div>\n",
       "<style scoped>\n",
       "    .dataframe tbody tr th:only-of-type {\n",
       "        vertical-align: middle;\n",
       "    }\n",
       "\n",
       "    .dataframe tbody tr th {\n",
       "        vertical-align: top;\n",
       "    }\n",
       "\n",
       "    .dataframe thead th {\n",
       "        text-align: right;\n",
       "    }\n",
       "</style>\n",
       "<table border=\"1\" class=\"dataframe\">\n",
       "  <thead>\n",
       "    <tr style=\"text-align: right;\">\n",
       "      <th></th>\n",
       "      <th>Unnamed: 0</th>\n",
       "      <th>CyclID</th>\n",
       "      <th>ActualStartTimestamp</th>\n",
       "      <th>ActualEndTimestamp</th>\n",
       "      <th>cyletime</th>\n",
       "      <th>CyclID.1</th>\n",
       "      <th>PressNo</th>\n",
       "      <th>Side</th>\n",
       "      <th>TyreSize</th>\n",
       "      <th>BladderCode</th>\n",
       "      <th>...</th>\n",
       "      <th>moldplatentemp.gas_leak.area_upper</th>\n",
       "      <th>moldplatentemp.N2_last.area_upper</th>\n",
       "      <th>moldplatentemp.drain_circ.area_upper</th>\n",
       "      <th>moldplatentemp.drain.area_upper</th>\n",
       "      <th>shapingpressure.steam.area_upper</th>\n",
       "      <th>shapingpressure.N2_first.area_upper</th>\n",
       "      <th>shapingpressure.gas_leak.area_upper</th>\n",
       "      <th>shapingpressure.N2_last.area_upper</th>\n",
       "      <th>shapingpressure.drain_circ.area_upper</th>\n",
       "      <th>shapingpressure.drain.area_upper</th>\n",
       "    </tr>\n",
       "  </thead>\n",
       "  <tbody>\n",
       "    <tr>\n",
       "      <th>0</th>\n",
       "      <td>0</td>\n",
       "      <td>A02LH2021218151151</td>\n",
       "      <td>2021-02-18 14:11:52</td>\n",
       "      <td>2021-02-18 14:27:52</td>\n",
       "      <td>0 days 00:16:00</td>\n",
       "      <td>A02LH2021218151151</td>\n",
       "      <td>A_02</td>\n",
       "      <td>LEFT</td>\n",
       "      <td>GV2156517QPRNV</td>\n",
       "      <td>18/2 H84E.</td>\n",
       "      <td>...</td>\n",
       "      <td>NaN</td>\n",
       "      <td>10803.10061</td>\n",
       "      <td>1771.00010</td>\n",
       "      <td>1593.90009</td>\n",
       "      <td>77349.30141</td>\n",
       "      <td>278456.65096</td>\n",
       "      <td>30939.92315</td>\n",
       "      <td>77343.02598</td>\n",
       "      <td>6187.69879</td>\n",
       "      <td>5370.044845</td>\n",
       "    </tr>\n",
       "    <tr>\n",
       "      <th>1</th>\n",
       "      <td>1</td>\n",
       "      <td>A02LH2021218181843</td>\n",
       "      <td>2021-02-18 17:18:45</td>\n",
       "      <td>2021-02-18 17:35:45</td>\n",
       "      <td>0 days 00:17:00</td>\n",
       "      <td>A02LH2021218181843</td>\n",
       "      <td>A_02</td>\n",
       "      <td>LEFT</td>\n",
       "      <td>GV2156517QPRNV</td>\n",
       "      <td>18/2 H84E.</td>\n",
       "      <td>...</td>\n",
       "      <td>9735.00000</td>\n",
       "      <td>35595.20182</td>\n",
       "      <td>1771.00010</td>\n",
       "      <td>NaN</td>\n",
       "      <td>77345.68487</td>\n",
       "      <td>278437.50078</td>\n",
       "      <td>30936.88507</td>\n",
       "      <td>108283.02215</td>\n",
       "      <td>6187.53621</td>\n",
       "      <td>4806.260869</td>\n",
       "    </tr>\n",
       "    <tr>\n",
       "      <th>2</th>\n",
       "      <td>2</td>\n",
       "      <td>A02LH2021218183817</td>\n",
       "      <td>2021-02-18 17:38:18</td>\n",
       "      <td>2021-02-18 17:53:19</td>\n",
       "      <td>0 days 00:15:01</td>\n",
       "      <td>A02LH2021218183817</td>\n",
       "      <td>A_02</td>\n",
       "      <td>LEFT</td>\n",
       "      <td>GV2156517QPRNV</td>\n",
       "      <td>18/2 H84E.</td>\n",
       "      <td>...</td>\n",
       "      <td>NaN</td>\n",
       "      <td>13813.80078</td>\n",
       "      <td>531.30003</td>\n",
       "      <td>177.10001</td>\n",
       "      <td>76826.75066</td>\n",
       "      <td>277918.20348</td>\n",
       "      <td>30936.57765</td>\n",
       "      <td>46921.62153</td>\n",
       "      <td>6186.43307</td>\n",
       "      <td>4006.673269</td>\n",
       "    </tr>\n",
       "    <tr>\n",
       "      <th>3</th>\n",
       "      <td>3</td>\n",
       "      <td>A02LH2021218185450</td>\n",
       "      <td>2021-02-18 17:54:52</td>\n",
       "      <td>2021-02-18 18:08:51</td>\n",
       "      <td>0 days 00:13:59</td>\n",
       "      <td>A02LH2021218185450</td>\n",
       "      <td>A_02</td>\n",
       "      <td>LEFT</td>\n",
       "      <td>GV2156517QPRNV</td>\n",
       "      <td>18/2 H84E.</td>\n",
       "      <td>...</td>\n",
       "      <td>3010.70017</td>\n",
       "      <td>2655.00000</td>\n",
       "      <td>1416.80008</td>\n",
       "      <td>1947.10001</td>\n",
       "      <td>77344.85278</td>\n",
       "      <td>278428.89134</td>\n",
       "      <td>30937.12002</td>\n",
       "      <td>14953.17912</td>\n",
       "      <td>6187.48194</td>\n",
       "      <td>3963.867262</td>\n",
       "    </tr>\n",
       "    <tr>\n",
       "      <th>4</th>\n",
       "      <td>4</td>\n",
       "      <td>A02LH2021218191022</td>\n",
       "      <td>2021-02-18 18:10:23</td>\n",
       "      <td>2021-02-18 18:24:24</td>\n",
       "      <td>0 days 00:14:01</td>\n",
       "      <td>A02LH2021218191022</td>\n",
       "      <td>A_02</td>\n",
       "      <td>LEFT</td>\n",
       "      <td>GV2156517QPRNV</td>\n",
       "      <td>18/2 H84E.</td>\n",
       "      <td>...</td>\n",
       "      <td>9029.70027</td>\n",
       "      <td>4426.80018</td>\n",
       "      <td>2125.20012</td>\n",
       "      <td>177.10001</td>\n",
       "      <td>77343.08077</td>\n",
       "      <td>278428.40408</td>\n",
       "      <td>30937.19267</td>\n",
       "      <td>15984.44735</td>\n",
       "      <td>6187.86166</td>\n",
       "      <td>3955.439801</td>\n",
       "    </tr>\n",
       "  </tbody>\n",
       "</table>\n",
       "<p>5 rows × 602 columns</p>\n",
       "</div>"
      ],
      "text/plain": [
       "   Unnamed: 0              CyclID ActualStartTimestamp   ActualEndTimestamp  \\\n",
       "0           0  A02LH2021218151151  2021-02-18 14:11:52  2021-02-18 14:27:52   \n",
       "1           1  A02LH2021218181843  2021-02-18 17:18:45  2021-02-18 17:35:45   \n",
       "2           2  A02LH2021218183817  2021-02-18 17:38:18  2021-02-18 17:53:19   \n",
       "3           3  A02LH2021218185450  2021-02-18 17:54:52  2021-02-18 18:08:51   \n",
       "4           4  A02LH2021218191022  2021-02-18 18:10:23  2021-02-18 18:24:24   \n",
       "\n",
       "          cyletime            CyclID.1 PressNo  Side        TyreSize  \\\n",
       "0  0 days 00:16:00  A02LH2021218151151    A_02  LEFT  GV2156517QPRNV   \n",
       "1  0 days 00:17:00  A02LH2021218181843    A_02  LEFT  GV2156517QPRNV   \n",
       "2  0 days 00:15:01  A02LH2021218183817    A_02  LEFT  GV2156517QPRNV   \n",
       "3  0 days 00:13:59  A02LH2021218185450    A_02  LEFT  GV2156517QPRNV   \n",
       "4  0 days 00:14:01  A02LH2021218191022    A_02  LEFT  GV2156517QPRNV   \n",
       "\n",
       "  BladderCode  ...  moldplatentemp.gas_leak.area_upper  \\\n",
       "0  18/2 H84E.  ...                                 NaN   \n",
       "1  18/2 H84E.  ...                          9735.00000   \n",
       "2  18/2 H84E.  ...                                 NaN   \n",
       "3  18/2 H84E.  ...                          3010.70017   \n",
       "4  18/2 H84E.  ...                          9029.70027   \n",
       "\n",
       "  moldplatentemp.N2_last.area_upper moldplatentemp.drain_circ.area_upper  \\\n",
       "0                       10803.10061                           1771.00010   \n",
       "1                       35595.20182                           1771.00010   \n",
       "2                       13813.80078                            531.30003   \n",
       "3                        2655.00000                           1416.80008   \n",
       "4                        4426.80018                           2125.20012   \n",
       "\n",
       "   moldplatentemp.drain.area_upper  shapingpressure.steam.area_upper  \\\n",
       "0                       1593.90009                       77349.30141   \n",
       "1                              NaN                       77345.68487   \n",
       "2                        177.10001                       76826.75066   \n",
       "3                       1947.10001                       77344.85278   \n",
       "4                        177.10001                       77343.08077   \n",
       "\n",
       "   shapingpressure.N2_first.area_upper  shapingpressure.gas_leak.area_upper  \\\n",
       "0                         278456.65096                          30939.92315   \n",
       "1                         278437.50078                          30936.88507   \n",
       "2                         277918.20348                          30936.57765   \n",
       "3                         278428.89134                          30937.12002   \n",
       "4                         278428.40408                          30937.19267   \n",
       "\n",
       "   shapingpressure.N2_last.area_upper  shapingpressure.drain_circ.area_upper  \\\n",
       "0                         77343.02598                             6187.69879   \n",
       "1                        108283.02215                             6187.53621   \n",
       "2                         46921.62153                             6186.43307   \n",
       "3                         14953.17912                             6187.48194   \n",
       "4                         15984.44735                             6187.86166   \n",
       "\n",
       "   shapingpressure.drain.area_upper  \n",
       "0                       5370.044845  \n",
       "1                       4806.260869  \n",
       "2                       4006.673269  \n",
       "3                       3963.867262  \n",
       "4                       3955.439801  \n",
       "\n",
       "[5 rows x 602 columns]"
      ]
     },
     "execution_count": 2,
     "metadata": {},
     "output_type": "execute_result"
    }
   ],
   "source": [
    "import pandas as pd\n",
    "import numpy as np\n",
    "df = pd.read_csv('./data_ready_for_learning_steps_new_0723.csv')\n",
    "df.head()"
   ]
  },
  {
   "cell_type": "code",
   "execution_count": 3,
   "metadata": {},
   "outputs": [],
   "source": [
    "def prRed(skk): print(\"\\033[91m {}\\033[00m\" .format(skk))\n",
    "def prGreen(skk): print(\"\\033[92m {}\\033[00m\" .format(skk))\n",
    "def prPurple(skk): print(\"\\033[95m {}\\033[00m\" .format(skk))\n",
    "def prCyan(skk): print(\"\\033[96m {}\\033[00m\" .format(skk))\n",
    "def uniques(category):    \n",
    "    category_counts = df[category].value_counts()\n",
    "    print(\"The number of unique values in column \\\"\" + str(category) + \"\\\" is: \", end = '')\n",
    "    prCyan(str(len(category_counts)))\n",
    "    category_counts.plot(kind='bar')"
   ]
  },
  {
   "cell_type": "code",
   "execution_count": 4,
   "metadata": {},
   "outputs": [
    {
     "name": "stdout",
     "output_type": "stream",
     "text": [
      "The number of unique values in column \"BladderCode\" is: \u001b[96m 16\u001b[00m\n"
     ]
    },
    {
     "data": {
      "image/png": "[encoded data removed]",
      "text/plain": [
       "<Figure size 432x288 with 1 Axes>"
      ]
     },
     "metadata": {
      "needs_background": "light"
     },
     "output_type": "display_data"
    }
   ],
   "source": [
    "uniques('BladderCode')"
   ]
  },
  {
   "cell_type": "code",
   "execution_count": 5,
   "metadata": {},
   "outputs": [
    {
     "name": "stdout",
     "output_type": "stream",
     "text": [
      "The number of unique values in column \"Side\" is: \u001b[96m 2\u001b[00m\n"
     ]
    },
    {
     "data": {
      "image/png": "[encoded data removed]",
      "text/plain": [
       "<Figure size 432x288 with 1 Axes>"
      ]
     },
     "metadata": {
      "needs_background": "light"
     },
     "output_type": "display_data"
    }
   ],
   "source": [
    "uniques('Side')"
   ]
  },
  {
   "cell_type": "code",
   "execution_count": 6,
   "metadata": {},
   "outputs": [
    {
     "name": "stdout",
     "output_type": "stream",
     "text": [
      "The number of unique values in column \"FirstCycleOfBladder\" is: \u001b[96m 2\u001b[00m\n"
     ]
    },
    {
     "data": {
      "image/png": "[encoded data removed]",
      "text/plain": [
       "<Figure size 432x288 with 1 Axes>"
      ]
     },
     "metadata": {
      "needs_background": "light"
     },
     "output_type": "display_data"
    }
   ],
   "source": [
    "uniques('FirstCycleOfBladder')\n"
   ]
  },
  {
   "cell_type": "code",
   "execution_count": 7,
   "metadata": {},
   "outputs": [
    {
     "name": "stdout",
     "output_type": "stream",
     "text": [
      "The number of unique values in column \"PressNo\" is: \u001b[96m 17\u001b[00m\n"
     ]
    },
    {
     "data": {
      "image/png": "[encoded data removed]",
      "text/plain": [
       "<Figure size 432x288 with 1 Axes>"
      ]
     },
     "metadata": {
      "needs_background": "light"
     },
     "output_type": "display_data"
    }
   ],
   "source": [
    "uniques('PressNo')"
   ]
  },
  {
   "cell_type": "code",
   "execution_count": 8,
   "metadata": {},
   "outputs": [
    {
     "name": "stdout",
     "output_type": "stream",
     "text": [
      "The number of unique values in column \"line\" is: \u001b[96m 5\u001b[00m\n"
     ]
    },
    {
     "data": {
      "image/png": "[encoded data removed]",
      "text/plain": [
       "<Figure size 432x288 with 1 Axes>"
      ]
     },
     "metadata": {
      "needs_background": "light"
     },
     "output_type": "display_data"
    }
   ],
   "source": [
    "uniques('line')"
   ]
  },
  {
   "cell_type": "code",
   "execution_count": 12,
   "metadata": {},
   "outputs": [
    {
     "data": {
      "text/plain": [
       "Index(['Unnamed: 0', 'CyclID', 'ActualStartTimestamp', 'ActualEndTimestamp',\n",
       "       'cyletime', 'CyclID.1', 'PressNo', 'Side', 'TyreSize', 'BladderCode',\n",
       "       ...\n",
       "       'moldplatentemp.gas_leak.area_upper',\n",
       "       'moldplatentemp.N2_last.area_upper',\n",
       "       'moldplatentemp.drain_circ.area_upper',\n",
       "       'moldplatentemp.drain.area_upper', 'shapingpressure.steam.area_upper',\n",
       "       'shapingpressure.N2_first.area_upper',\n",
       "       'shapingpressure.gas_leak.area_upper',\n",
       "       'shapingpressure.N2_last.area_upper',\n",
       "       'shapingpressure.drain_circ.area_upper',\n",
       "       'shapingpressure.drain.area_upper'],\n",
       "      dtype='object', length=602)"
      ]
     },
     "execution_count": 12,
     "metadata": {},
     "output_type": "execute_result"
    }
   ],
   "source": [
    "df.columns"
   ]
  },
  {
   "cell_type": "code",
   "execution_count": null,
   "metadata": {},
   "outputs": [],
   "source": []
  },
  {
   "cell_type": "code",
   "execution_count": null,
   "metadata": {},
   "outputs": [],
   "source": []
  }
 ],
 "metadata": {
  "interpreter": {
   "hash": "93184ff88d627996db6ae820626d3e55d27fde3f04aa3091aab9dfcbc84df5cf"
  },
  "kernelspec": {
   "display_name": "Python 3.8.12 64-bit ('tensorflow': conda)",
   "name": "python3"
  },
  "language_info": {
   "codemirror_mode": {
    "name": "ipython",
    "version": 3
   },
   "file_extension": ".py",
   "mimetype": "text/x-python",
   "name": "python",
   "nbconvert_exporter": "python",
   "pygments_lexer": "ipython3",
   "version": "3.8.12"
  },
  "orig_nbformat": 4
 },
 "nbformat": 4,
 "nbformat_minor": 2
}
